{
 "cells": [
  {
   "cell_type": "code",
   "execution_count": 1,
   "source": [
    "import pandas as pd\n",
    "import numpy as np\n",
    "import scipy.stats as sps\n",
    "import statsmodels.formula.api as smf\n",
    "from linearmodels.iv import IV2SLS"
   ],
   "outputs": [],
   "metadata": {
    "ExecuteTime": {
     "end_time": "2022-12-11T22:23:48.046462Z",
     "start_time": "2022-12-11T22:23:34.221997Z"
    }
   }
  },
  {
   "cell_type": "code",
   "execution_count": 2,
   "source": [
    "ohie = pd.read_stata('OHIE.dta')\n",
    "ohie.head()"
   ],
   "outputs": [
    {
     "output_type": "execute_result",
     "data": {
      "text/html": [
       "<div>\n",
       "<style scoped>\n",
       "    .dataframe tbody tr th:only-of-type {\n",
       "        vertical-align: middle;\n",
       "    }\n",
       "\n",
       "    .dataframe tbody tr th {\n",
       "        vertical-align: top;\n",
       "    }\n",
       "\n",
       "    .dataframe thead th {\n",
       "        text-align: right;\n",
       "    }\n",
       "</style>\n",
       "<table border=\"1\" class=\"dataframe\">\n",
       "  <thead>\n",
       "    <tr style=\"text-align: right;\">\n",
       "      <th></th>\n",
       "      <th>weight_total_inp</th>\n",
       "      <th>tab1_gender_inp</th>\n",
       "      <th>tab2dia_dx_post_lottery</th>\n",
       "      <th>tab2hbp_dx_post_lottery</th>\n",
       "      <th>tab2chl_dx_post_lottery</th>\n",
       "      <th>tab2dep_dx_post_lottery</th>\n",
       "      <th>tab3_pcs8_score</th>\n",
       "      <th>tab3_mcs8_score</th>\n",
       "      <th>tab5_usual_clinic_inp</th>\n",
       "      <th>tab5_needmet_med_inp</th>\n",
       "      <th>...</th>\n",
       "      <th>tab5_med_qual_bin_inp</th>\n",
       "      <th>tab5_smk_curr_bin_inp</th>\n",
       "      <th>tab3_poshappiness_bin_inp</th>\n",
       "      <th>tab5_mam50_chk_inp</th>\n",
       "      <th>tab5_doc_num_mod_inp</th>\n",
       "      <th>tab5_ed_num_mod_inp</th>\n",
       "      <th>tab5_surg_num_mod_inp</th>\n",
       "      <th>tab5_hosp_num_mod_inp_2</th>\n",
       "      <th>tab4_any_oop_inp</th>\n",
       "      <th>tab4_tr_tot_spend_inp</th>\n",
       "    </tr>\n",
       "  </thead>\n",
       "  <tbody>\n",
       "    <tr>\n",
       "      <th>0</th>\n",
       "      <td>1.150416</td>\n",
       "      <td>Female</td>\n",
       "      <td>No</td>\n",
       "      <td>No</td>\n",
       "      <td>No</td>\n",
       "      <td>No</td>\n",
       "      <td>55.331001</td>\n",
       "      <td>45.382450</td>\n",
       "      <td>NaN</td>\n",
       "      <td>Yes</td>\n",
       "      <td>...</td>\n",
       "      <td>NaN</td>\n",
       "      <td>not at all</td>\n",
       "      <td>very/pretty happy</td>\n",
       "      <td>0.0</td>\n",
       "      <td>0.0</td>\n",
       "      <td>0.0</td>\n",
       "      <td>0.0</td>\n",
       "      <td>0.0</td>\n",
       "      <td>0.0</td>\n",
       "      <td>0.0</td>\n",
       "    </tr>\n",
       "    <tr>\n",
       "      <th>1</th>\n",
       "      <td>0.897460</td>\n",
       "      <td>Male</td>\n",
       "      <td>No</td>\n",
       "      <td>Yes</td>\n",
       "      <td>Yes</td>\n",
       "      <td>No</td>\n",
       "      <td>20.077925</td>\n",
       "      <td>53.045685</td>\n",
       "      <td>No</td>\n",
       "      <td>No</td>\n",
       "      <td>...</td>\n",
       "      <td>fair/poor</td>\n",
       "      <td>everyday/some days</td>\n",
       "      <td>very/pretty happy</td>\n",
       "      <td>NaN</td>\n",
       "      <td>6.0</td>\n",
       "      <td>2.0</td>\n",
       "      <td>0.0</td>\n",
       "      <td>0.0</td>\n",
       "      <td>1.0</td>\n",
       "      <td>170.0</td>\n",
       "    </tr>\n",
       "    <tr>\n",
       "      <th>2</th>\n",
       "      <td>0.000000</td>\n",
       "      <td>NaN</td>\n",
       "      <td>NaN</td>\n",
       "      <td>NaN</td>\n",
       "      <td>NaN</td>\n",
       "      <td>NaN</td>\n",
       "      <td>NaN</td>\n",
       "      <td>NaN</td>\n",
       "      <td>NaN</td>\n",
       "      <td>NaN</td>\n",
       "      <td>...</td>\n",
       "      <td>NaN</td>\n",
       "      <td>NaN</td>\n",
       "      <td>NaN</td>\n",
       "      <td>NaN</td>\n",
       "      <td>NaN</td>\n",
       "      <td>NaN</td>\n",
       "      <td>NaN</td>\n",
       "      <td>NaN</td>\n",
       "      <td>NaN</td>\n",
       "      <td>NaN</td>\n",
       "    </tr>\n",
       "    <tr>\n",
       "      <th>3</th>\n",
       "      <td>1.000000</td>\n",
       "      <td>Female</td>\n",
       "      <td>No</td>\n",
       "      <td>No</td>\n",
       "      <td>No</td>\n",
       "      <td>NaN</td>\n",
       "      <td>50.224506</td>\n",
       "      <td>50.813576</td>\n",
       "      <td>Yes</td>\n",
       "      <td>Yes</td>\n",
       "      <td>...</td>\n",
       "      <td>fair/poor</td>\n",
       "      <td>not at all</td>\n",
       "      <td>very/pretty happy</td>\n",
       "      <td>NaN</td>\n",
       "      <td>12.0</td>\n",
       "      <td>1.0</td>\n",
       "      <td>0.0</td>\n",
       "      <td>0.0</td>\n",
       "      <td>0.0</td>\n",
       "      <td>0.0</td>\n",
       "    </tr>\n",
       "    <tr>\n",
       "      <th>4</th>\n",
       "      <td>1.212644</td>\n",
       "      <td>Male</td>\n",
       "      <td>No</td>\n",
       "      <td>No</td>\n",
       "      <td>No</td>\n",
       "      <td>No</td>\n",
       "      <td>44.189751</td>\n",
       "      <td>47.706932</td>\n",
       "      <td>No</td>\n",
       "      <td>No</td>\n",
       "      <td>...</td>\n",
       "      <td>good/vgood/excellent</td>\n",
       "      <td>everyday/some days</td>\n",
       "      <td>not too happy</td>\n",
       "      <td>NaN</td>\n",
       "      <td>0.0</td>\n",
       "      <td>1.0</td>\n",
       "      <td>0.0</td>\n",
       "      <td>0.0</td>\n",
       "      <td>1.0</td>\n",
       "      <td>456.0</td>\n",
       "    </tr>\n",
       "  </tbody>\n",
       "</table>\n",
       "<p>5 rows × 59 columns</p>\n",
       "</div>"
      ],
      "text/plain": [
       "   weight_total_inp tab1_gender_inp tab2dia_dx_post_lottery  \\\n",
       "0          1.150416          Female                      No   \n",
       "1          0.897460            Male                      No   \n",
       "2          0.000000             NaN                     NaN   \n",
       "3          1.000000          Female                      No   \n",
       "4          1.212644            Male                      No   \n",
       "\n",
       "  tab2hbp_dx_post_lottery tab2chl_dx_post_lottery tab2dep_dx_post_lottery  \\\n",
       "0                      No                      No                      No   \n",
       "1                     Yes                     Yes                      No   \n",
       "2                     NaN                     NaN                     NaN   \n",
       "3                      No                      No                     NaN   \n",
       "4                      No                      No                      No   \n",
       "\n",
       "   tab3_pcs8_score  tab3_mcs8_score tab5_usual_clinic_inp  \\\n",
       "0        55.331001        45.382450                   NaN   \n",
       "1        20.077925        53.045685                    No   \n",
       "2              NaN              NaN                   NaN   \n",
       "3        50.224506        50.813576                   Yes   \n",
       "4        44.189751        47.706932                    No   \n",
       "\n",
       "  tab5_needmet_med_inp  ... tab5_med_qual_bin_inp tab5_smk_curr_bin_inp  \\\n",
       "0                  Yes  ...                   NaN            not at all   \n",
       "1                   No  ...             fair/poor    everyday/some days   \n",
       "2                  NaN  ...                   NaN                   NaN   \n",
       "3                  Yes  ...             fair/poor            not at all   \n",
       "4                   No  ...  good/vgood/excellent    everyday/some days   \n",
       "\n",
       "  tab3_poshappiness_bin_inp tab5_mam50_chk_inp tab5_doc_num_mod_inp  \\\n",
       "0         very/pretty happy                0.0                  0.0   \n",
       "1         very/pretty happy                NaN                  6.0   \n",
       "2                       NaN                NaN                  NaN   \n",
       "3         very/pretty happy                NaN                 12.0   \n",
       "4             not too happy                NaN                  0.0   \n",
       "\n",
       "  tab5_ed_num_mod_inp  tab5_surg_num_mod_inp tab5_hosp_num_mod_inp_2  \\\n",
       "0                 0.0                    0.0                     0.0   \n",
       "1                 2.0                    0.0                     0.0   \n",
       "2                 NaN                    NaN                     NaN   \n",
       "3                 1.0                    0.0                     0.0   \n",
       "4                 1.0                    0.0                     0.0   \n",
       "\n",
       "  tab4_any_oop_inp tab4_tr_tot_spend_inp  \n",
       "0              0.0                   0.0  \n",
       "1              1.0                 170.0  \n",
       "2              NaN                   NaN  \n",
       "3              0.0                   0.0  \n",
       "4              1.0                 456.0  \n",
       "\n",
       "[5 rows x 59 columns]"
      ]
     },
     "metadata": {},
     "execution_count": 2
    }
   ],
   "metadata": {
    "ExecuteTime": {
     "end_time": "2022-12-11T22:23:48.466940Z",
     "start_time": "2022-12-11T22:23:48.048811Z"
    }
   }
  },
  {
   "cell_type": "code",
   "execution_count": 3,
   "source": [
    "ohie.columns"
   ],
   "outputs": [
    {
     "output_type": "execute_result",
     "data": {
      "text/plain": [
       "Index(['weight_total_inp', 'tab1_gender_inp', 'tab2dia_dx_post_lottery',\n",
       "       'tab2hbp_dx_post_lottery', 'tab2chl_dx_post_lottery',\n",
       "       'tab2dep_dx_post_lottery', 'tab3_pcs8_score', 'tab3_mcs8_score',\n",
       "       'tab5_usual_clinic_inp', 'tab5_needmet_med_inp', 'tab5_chl_chk_inp',\n",
       "       'tab5_pap_chk_inp', 'tab5_fobt_chk_inp', 'tab5_col_chk_inp',\n",
       "       'tab5_psa_chk_inp', 'tab5_did_flu_inp', 'tab2cvd_risk_point',\n",
       "       'tab4_catastrophic_exp_inp', 'tab4_owe_inp', 'tab4_borrow_inp',\n",
       "       'tab1_hispanic_inp', 'tab1_race_white_inp', 'tab1_race_black_inp',\n",
       "       'tab1_race_nwother_inp', 'tab2a1c_inp', 'tab2hdl_inp', 'tab2chl_inp',\n",
       "       'tab2bp_sar_inp', 'tab2bp_dar_inp', 'tab5_rx_num_mod_inp',\n",
       "       'tab2hbp_diure_med_inp', 'tab2antihyperlip_med_inp',\n",
       "       'tab2diabetes_med_inp', 'tab2antidep_med_inp', 'household_id',\n",
       "       'treatment', 'ohp_all_ever_admin', 'tab1_age_19_34_inp',\n",
       "       'tab1_age_35_49_inp', 'tab1_age_50_64_inp', 'tab1_itvw_english_inp',\n",
       "       'tab3_pain_low_inp', 'tab3_health_change_noworse', 'tab5_obese',\n",
       "       'tab2bp_hyper', 'tab2a1c_dia', 'tab2chl_h', 'tab2hdl_low',\n",
       "       'tab2phqtot_high', 'tab5_med_qual_bin_inp', 'tab5_smk_curr_bin_inp',\n",
       "       'tab3_poshappiness_bin_inp', 'tab5_mam50_chk_inp',\n",
       "       'tab5_doc_num_mod_inp', 'tab5_ed_num_mod_inp', 'tab5_surg_num_mod_inp',\n",
       "       'tab5_hosp_num_mod_inp_2', 'tab4_any_oop_inp', 'tab4_tr_tot_spend_inp'],\n",
       "      dtype='object')"
      ]
     },
     "metadata": {},
     "execution_count": 3
    }
   ],
   "metadata": {
    "ExecuteTime": {
     "end_time": "2022-12-11T22:23:48.477596Z",
     "start_time": "2022-12-11T22:23:48.470545Z"
    }
   }
  },
  {
   "cell_type": "code",
   "execution_count": 4,
   "source": [
    "outcomes = ['tab2bp_hyper', 'tab2phqtot_high', 'tab4_catastrophic_exp_inp', 'tab5_needmet_med_inp']\n",
    "restr_cols = ['treatment', 'ohp_all_ever_admin'] + outcomes\n",
    "sub_ohie = ohie[restr_cols]\n",
    "sub_ohie.head() "
   ],
   "outputs": [
    {
     "output_type": "execute_result",
     "data": {
      "text/html": [
       "<div>\n",
       "<style scoped>\n",
       "    .dataframe tbody tr th:only-of-type {\n",
       "        vertical-align: middle;\n",
       "    }\n",
       "\n",
       "    .dataframe tbody tr th {\n",
       "        vertical-align: top;\n",
       "    }\n",
       "\n",
       "    .dataframe thead th {\n",
       "        text-align: right;\n",
       "    }\n",
       "</style>\n",
       "<table border=\"1\" class=\"dataframe\">\n",
       "  <thead>\n",
       "    <tr style=\"text-align: right;\">\n",
       "      <th></th>\n",
       "      <th>treatment</th>\n",
       "      <th>ohp_all_ever_admin</th>\n",
       "      <th>tab2bp_hyper</th>\n",
       "      <th>tab2phqtot_high</th>\n",
       "      <th>tab4_catastrophic_exp_inp</th>\n",
       "      <th>tab5_needmet_med_inp</th>\n",
       "    </tr>\n",
       "  </thead>\n",
       "  <tbody>\n",
       "    <tr>\n",
       "      <th>0</th>\n",
       "      <td>Selected</td>\n",
       "      <td>NOT enrolled</td>\n",
       "      <td>1.0</td>\n",
       "      <td>0.0</td>\n",
       "      <td>No</td>\n",
       "      <td>Yes</td>\n",
       "    </tr>\n",
       "    <tr>\n",
       "      <th>1</th>\n",
       "      <td>Not selected</td>\n",
       "      <td>NOT enrolled</td>\n",
       "      <td>0.0</td>\n",
       "      <td>0.0</td>\n",
       "      <td>No</td>\n",
       "      <td>No</td>\n",
       "    </tr>\n",
       "    <tr>\n",
       "      <th>2</th>\n",
       "      <td>Not selected</td>\n",
       "      <td>NOT enrolled</td>\n",
       "      <td>NaN</td>\n",
       "      <td>NaN</td>\n",
       "      <td>NaN</td>\n",
       "      <td>NaN</td>\n",
       "    </tr>\n",
       "    <tr>\n",
       "      <th>3</th>\n",
       "      <td>Not selected</td>\n",
       "      <td>Enrolled</td>\n",
       "      <td>1.0</td>\n",
       "      <td>0.0</td>\n",
       "      <td>No</td>\n",
       "      <td>Yes</td>\n",
       "    </tr>\n",
       "    <tr>\n",
       "      <th>4</th>\n",
       "      <td>Not selected</td>\n",
       "      <td>NOT enrolled</td>\n",
       "      <td>1.0</td>\n",
       "      <td>1.0</td>\n",
       "      <td>No</td>\n",
       "      <td>No</td>\n",
       "    </tr>\n",
       "  </tbody>\n",
       "</table>\n",
       "</div>"
      ],
      "text/plain": [
       "      treatment ohp_all_ever_admin  tab2bp_hyper  tab2phqtot_high  \\\n",
       "0      Selected       NOT enrolled           1.0              0.0   \n",
       "1  Not selected       NOT enrolled           0.0              0.0   \n",
       "2  Not selected       NOT enrolled           NaN              NaN   \n",
       "3  Not selected           Enrolled           1.0              0.0   \n",
       "4  Not selected       NOT enrolled           1.0              1.0   \n",
       "\n",
       "  tab4_catastrophic_exp_inp tab5_needmet_med_inp  \n",
       "0                        No                  Yes  \n",
       "1                        No                   No  \n",
       "2                       NaN                  NaN  \n",
       "3                        No                  Yes  \n",
       "4                        No                   No  "
      ]
     },
     "metadata": {},
     "execution_count": 4
    }
   ],
   "metadata": {
    "ExecuteTime": {
     "end_time": "2022-12-11T22:23:48.499748Z",
     "start_time": "2022-12-11T22:23:48.480602Z"
    }
   }
  },
  {
   "cell_type": "code",
   "execution_count": 5,
   "source": [
    "print(sub_ohie.shape)\n",
    "sub_ohie = sub_ohie.dropna()\n",
    "print(sub_ohie.shape)\n",
    "sub_ohie = sub_ohie.assign(tab4_catastrophic_exp_inp=sub_ohie.tab4_catastrophic_exp_inp.map({'Yes': 1, 'No': 0}).astype(float))\n",
    "sub_ohie = sub_ohie.assign(tab5_needmet_med_inp=sub_ohie.tab5_needmet_med_inp.map({'Yes': 1, 'No': 0}).astype(float))\n",
    "sub_ohie = sub_ohie.assign(treatment_bin=sub_ohie.treatment.map({'Selected': 1, 'Not selected': 0}).astype(float))\n",
    "sub_ohie = sub_ohie.assign(ohp_all_ever_admin_bin=sub_ohie.ohp_all_ever_admin.map({'Enrolled': 1, 'NOT enrolled': 0}).astype(float))\n",
    "\n",
    "\n",
    "res_list = list()\n",
    "for y in outcomes:\n",
    "    ate = sub_ohie[sub_ohie.treatment=='Selected'][y].mean() - sub_ohie[sub_ohie.treatment=='Not selected'][y].mean()\n",
    "    var_ate = sub_ohie[sub_ohie.treatment=='Selected'][y].var() / len(sub_ohie[sub_ohie.treatment=='Selected']) +\\\n",
    "        sub_ohie[sub_ohie.treatment=='Not selected'][y].var() / len(sub_ohie[sub_ohie.treatment=='Not selected'])\n",
    "    ci = [ate - sps.norm.ppf(0.975) * np.sqrt(var_ate), \n",
    "          ate + sps.norm.ppf(0.975) * np.sqrt(var_ate)]\n",
    "    res_list.append([y, ate, var_ate] + ci)\n",
    "res_df = pd.DataFrame(res_list, columns=['outcome', 'ATE', 'var ATE', 'ci_95_low', 'ci_95_high'])\n",
    "res_df"
   ],
   "outputs": [
    {
     "output_type": "stream",
     "name": "stdout",
     "text": [
      "(20745, 6)\n",
      "(11698, 6)\n"
     ]
    },
    {
     "output_type": "execute_result",
     "data": {
      "text/html": [
       "<div>\n",
       "<style scoped>\n",
       "    .dataframe tbody tr th:only-of-type {\n",
       "        vertical-align: middle;\n",
       "    }\n",
       "\n",
       "    .dataframe tbody tr th {\n",
       "        vertical-align: top;\n",
       "    }\n",
       "\n",
       "    .dataframe thead th {\n",
       "        text-align: right;\n",
       "    }\n",
       "</style>\n",
       "<table border=\"1\" class=\"dataframe\">\n",
       "  <thead>\n",
       "    <tr style=\"text-align: right;\">\n",
       "      <th></th>\n",
       "      <th>outcome</th>\n",
       "      <th>ATE</th>\n",
       "      <th>var ATE</th>\n",
       "      <th>ci_95_low</th>\n",
       "      <th>ci_95_high</th>\n",
       "    </tr>\n",
       "  </thead>\n",
       "  <tbody>\n",
       "    <tr>\n",
       "      <th>0</th>\n",
       "      <td>tab2bp_hyper</td>\n",
       "      <td>0.001153</td>\n",
       "      <td>0.000046</td>\n",
       "      <td>-0.012115</td>\n",
       "      <td>0.014420</td>\n",
       "    </tr>\n",
       "    <tr>\n",
       "      <th>1</th>\n",
       "      <td>tab2phqtot_high</td>\n",
       "      <td>-0.036184</td>\n",
       "      <td>0.000070</td>\n",
       "      <td>-0.052575</td>\n",
       "      <td>-0.019793</td>\n",
       "    </tr>\n",
       "    <tr>\n",
       "      <th>2</th>\n",
       "      <td>tab4_catastrophic_exp_inp</td>\n",
       "      <td>-0.015821</td>\n",
       "      <td>0.000015</td>\n",
       "      <td>-0.023427</td>\n",
       "      <td>-0.008216</td>\n",
       "    </tr>\n",
       "    <tr>\n",
       "      <th>3</th>\n",
       "      <td>tab5_needmet_med_inp</td>\n",
       "      <td>0.032184</td>\n",
       "      <td>0.000080</td>\n",
       "      <td>0.014649</td>\n",
       "      <td>0.049720</td>\n",
       "    </tr>\n",
       "  </tbody>\n",
       "</table>\n",
       "</div>"
      ],
      "text/plain": [
       "                     outcome       ATE   var ATE  ci_95_low  ci_95_high\n",
       "0               tab2bp_hyper  0.001153  0.000046  -0.012115    0.014420\n",
       "1            tab2phqtot_high -0.036184  0.000070  -0.052575   -0.019793\n",
       "2  tab4_catastrophic_exp_inp -0.015821  0.000015  -0.023427   -0.008216\n",
       "3       tab5_needmet_med_inp  0.032184  0.000080   0.014649    0.049720"
      ]
     },
     "metadata": {},
     "execution_count": 5
    }
   ],
   "metadata": {
    "ExecuteTime": {
     "end_time": "2022-12-11T22:23:48.713426Z",
     "start_time": "2022-12-11T22:23:48.502724Z"
    }
   }
  },
  {
   "cell_type": "markdown",
   "source": [
    "The ITT on elevated blood pressure is $0.0012$ with a 95\\% confidence interval of $[-0.012, 0.014]$. We fail to reject the null at $\\alpha = .05$ that winning the Medicaid lottery has no effect on high blood pressure\n",
    "\n",
    "The ITT on screening for depression is $-0.036$ with a 95\\% confidence interval of $[-0.053, -0.020]$. We reject the null of no effect at $\\alpha = .05$ and conclude that winning the Medicaid lottery reduced the incidence of depression.\n",
    "\n",
    "The ITT on the incidence of catastrophic medical expenditures is $-0.016$ with a 95\\% confidence interval of $[-0.023, -0.0082]$. We reject the null of no effect at $\\alpha = .05$ and conclude that winning the Medicaid lottery reduced the probability that individuals would experience catastrophic medical expenditures.\n",
    "\n",
    "The ITT on whether participants felt their medical needs were met is is $0.032$ with a 95\\% confidence interval of $[0.015, 0.050]$. We reject the null of no effect at $\\alpha = .05$ and conclude that winning the Medicaid lottery increased the probability that individuals perceived that their medical needs were met.\n",
    "\n",
    "Overall, it seems that winning the lottery to subscribe to Medicaid has a positive effect on an individual's health, which is expected.\n",
    "\n",
    "### Question 3"
   ],
   "metadata": {
    "ExecuteTime": {
     "end_time": "2022-11-22T22:40:25.194029Z",
     "start_time": "2022-11-22T22:40:25.183654Z"
    }
   }
  },
  {
   "cell_type": "code",
   "execution_count": 6,
   "source": [
    "res_list_med = list()\n",
    "for y in outcomes:\n",
    "    ate = sub_ohie[sub_ohie.ohp_all_ever_admin=='Enrolled'][y].mean() - sub_ohie[sub_ohie.ohp_all_ever_admin=='NOT enrolled'][y].mean()\n",
    "    var_ate = sub_ohie[sub_ohie.ohp_all_ever_admin=='Enrolled'][y].var() / len(sub_ohie[sub_ohie.ohp_all_ever_admin=='Enrolled']) +\\\n",
    "        sub_ohie[sub_ohie.ohp_all_ever_admin=='NOT enrolled'][y].var() / len(sub_ohie[sub_ohie.ohp_all_ever_admin=='NOT enrolled'])\n",
    "    ci = [ate - sps.norm.ppf(0.975) * np.sqrt(var_ate), \n",
    "          ate + sps.norm.ppf(0.975) * np.sqrt(var_ate)]\n",
    "    res_list_med.append([y, ate, var_ate] + ci)\n",
    "res_df_med = pd.DataFrame(res_list_med, columns=['outcome', 'ATE', 'var ATE', 'ci_95_low', 'ci_95_high'])\n",
    "res_df_med"
   ],
   "outputs": [
    {
     "output_type": "execute_result",
     "data": {
      "text/html": [
       "<div>\n",
       "<style scoped>\n",
       "    .dataframe tbody tr th:only-of-type {\n",
       "        vertical-align: middle;\n",
       "    }\n",
       "\n",
       "    .dataframe tbody tr th {\n",
       "        vertical-align: top;\n",
       "    }\n",
       "\n",
       "    .dataframe thead th {\n",
       "        text-align: right;\n",
       "    }\n",
       "</style>\n",
       "<table border=\"1\" class=\"dataframe\">\n",
       "  <thead>\n",
       "    <tr style=\"text-align: right;\">\n",
       "      <th></th>\n",
       "      <th>outcome</th>\n",
       "      <th>ATE</th>\n",
       "      <th>var ATE</th>\n",
       "      <th>ci_95_low</th>\n",
       "      <th>ci_95_high</th>\n",
       "    </tr>\n",
       "  </thead>\n",
       "  <tbody>\n",
       "    <tr>\n",
       "      <th>0</th>\n",
       "      <td>tab2bp_hyper</td>\n",
       "      <td>-0.017036</td>\n",
       "      <td>0.000054</td>\n",
       "      <td>-0.031428</td>\n",
       "      <td>-0.002644</td>\n",
       "    </tr>\n",
       "    <tr>\n",
       "      <th>1</th>\n",
       "      <td>tab2phqtot_high</td>\n",
       "      <td>0.053713</td>\n",
       "      <td>0.000089</td>\n",
       "      <td>0.035215</td>\n",
       "      <td>0.072211</td>\n",
       "    </tr>\n",
       "    <tr>\n",
       "      <th>2</th>\n",
       "      <td>tab4_catastrophic_exp_inp</td>\n",
       "      <td>-0.010467</td>\n",
       "      <td>0.000016</td>\n",
       "      <td>-0.018419</td>\n",
       "      <td>-0.002515</td>\n",
       "    </tr>\n",
       "    <tr>\n",
       "      <th>3</th>\n",
       "      <td>tab5_needmet_med_inp</td>\n",
       "      <td>0.056327</td>\n",
       "      <td>0.000095</td>\n",
       "      <td>0.037249</td>\n",
       "      <td>0.075405</td>\n",
       "    </tr>\n",
       "  </tbody>\n",
       "</table>\n",
       "</div>"
      ],
      "text/plain": [
       "                     outcome       ATE   var ATE  ci_95_low  ci_95_high\n",
       "0               tab2bp_hyper -0.017036  0.000054  -0.031428   -0.002644\n",
       "1            tab2phqtot_high  0.053713  0.000089   0.035215    0.072211\n",
       "2  tab4_catastrophic_exp_inp -0.010467  0.000016  -0.018419   -0.002515\n",
       "3       tab5_needmet_med_inp  0.056327  0.000095   0.037249    0.075405"
      ]
     },
     "metadata": {},
     "execution_count": 6
    }
   ],
   "metadata": {
    "ExecuteTime": {
     "end_time": "2022-12-11T22:23:48.813244Z",
     "start_time": "2022-12-11T22:23:48.718762Z"
    }
   }
  },
  {
   "cell_type": "markdown",
   "source": [
    "The naive estimate of Medicaid enrollment on elevated blood pressure is $-0.017$ with a 95\\% confidence interval of $[-0.031, -0.0026]$. We would reject the null of no difference in elevated blood pressure between enrolled and unenrolled respondents at $\\alpha = .05$.\n",
    "\n",
    "The naive estimate on screening for depression is $0.054$ with a 95\\% confidence interval of $[0.035, 0.072]$. This suggests that participants enrolled in Medicaid were *more* likely to screen positive for depression compared to those who were unenrolled, which is surprising. We would reject the null of no difference in depression between enrolled and unenrolled respondents at $\\alpha = .05$.\n",
    "\n",
    "The naive estimate on incidence of catastrophic expenditures is $-0.010$ with a 95\\% confidence interval of $[-0.018, -0.0025]$. This suggests that participants enrolled in Medicaid were less likely to incur catastrophic medical expenditures compared to those not enrolled. We would reject the null of no difference between enrolled and unenrolled respondents at $\\alpha = .05$.\n",
    "\n",
    "The naive estimate on whether participants felt their medical needs were met is is $0.056$ with a 95\\% confidence interval of $[0.037, 0.075]$. We reject the null of no difference at $\\alpha = .05$ and find that medicaid enrolees were more likely to perceive their medical needs were met than those non-enrolled.\n",
    "\n",
    "These difference-in-means estimates are likely biased estimates of the average treatment effect of medicaid enrollment. This is because there are likely **unobserved confounders** of whether participants were able to enroll in medicaid and these outcomes. These participants are likely to have different medical outcomes, eespecially if their eligibility was due to socio-economic characteristics that would make them eligible for OHP Plus. Enrollment is not *directly* randomized.\n"
   ],
   "metadata": {
    "ExecuteTime": {
     "end_time": "2022-11-22T22:59:03.218059Z",
     "start_time": "2022-11-22T22:59:03.207800Z"
    }
   }
  },
  {
   "cell_type": "code",
   "execution_count": null,
   "source": [],
   "outputs": [],
   "metadata": {
    "ExecuteTime": {
     "end_time": "2022-11-22T23:11:24.091452Z",
     "start_time": "2022-11-22T23:11:23.996590Z"
    }
   }
  },
  {
   "cell_type": "code",
   "execution_count": null,
   "source": [
    "\n"
   ],
   "outputs": [],
   "metadata": {
    "ExecuteTime": {
     "end_time": "2022-12-06T10:41:36.926284Z",
     "start_time": "2022-12-06T10:41:36.913978Z"
    }
   }
  },
  {
   "cell_type": "code",
   "execution_count": 7,
   "source": [
    "# proportion of always-takers\n",
    "always_takers_prop = float(sub_ohie[(sub_ohie.treatment_bin==0)&(sub_ohie.ohp_all_ever_admin=='Enrolled')].shape[0]) \\\n",
    "    / sub_ohie[(sub_ohie.treatment_bin==0)].shape[0]\n",
    "print('proportion of always-takers', always_takers_prop)"
   ],
   "outputs": [
    {
     "output_type": "stream",
     "name": "stdout",
     "text": [
      "proportion of always-takers 0.15456005711226128\n"
     ]
    }
   ],
   "metadata": {
    "ExecuteTime": {
     "end_time": "2022-12-11T22:23:48.830128Z",
     "start_time": "2022-12-11T22:23:48.818281Z"
    }
   }
  },
  {
   "cell_type": "code",
   "execution_count": 8,
   "source": [
    "complier_prop = float(sub_ohie[(sub_ohie.treatment_bin==1)&(sub_ohie.ohp_all_ever_admin=='Enrolled')].shape[0]) / \\\n",
    "    sub_ohie[(sub_ohie.treatment_bin==1)].shape[0] - always_takers_prop\n",
    "print('proportion of compliers', complier_prop)"
   ],
   "outputs": [
    {
     "output_type": "stream",
     "name": "stdout",
     "text": [
      "proportion of compliers 0.2516745614275254\n"
     ]
    }
   ],
   "metadata": {
    "ExecuteTime": {
     "end_time": "2022-12-11T22:23:48.843858Z",
     "start_time": "2022-12-11T22:23:48.832450Z"
    }
   }
  },
  {
   "cell_type": "code",
   "execution_count": null,
   "source": [],
   "outputs": [],
   "metadata": {
    "ExecuteTime": {
     "end_time": "2022-11-22T23:13:44.581381Z",
     "start_time": "2022-11-22T23:13:44.576158Z"
    }
   }
  },
  {
   "cell_type": "code",
   "execution_count": 9,
   "source": [
    "print(np.corrcoef(sub_ohie.treatment_bin, sub_ohie.ohp_all_ever_admin_bin)[0, 1])"
   ],
   "outputs": [
    {
     "output_type": "stream",
     "name": "stdout",
     "text": [
      "0.27831335601878815\n"
     ]
    }
   ],
   "metadata": {
    "ExecuteTime": {
     "end_time": "2022-12-11T22:23:48.883913Z",
     "start_time": "2022-12-11T22:23:48.846109Z"
    }
   }
  },
  {
   "cell_type": "markdown",
   "source": [
    "On average, 15.4\\% of participants who did not win the lottery nevertheless were able to enroll in the Oregon Health Plan. This jumps to about 40.6\\% of participants who did win the lottery. Winning the OHP lottery raised participants probability of enrollment by 25.2 percentage points. Under monotonicity, this suggests that $25.2\\%$ of participants are \"compliers\" -- in other words, they would be induced by winning the lottery to enroll in Medicaid and would not enroll if they did not win. \n",
    "\n",
    "The correlation between winning the lottery and Medicaid unrollment is 0.278, which is also relatively high. Overall, the lottery seems to be a rather strong instrument.\n",
    "\n",
    "To identify the LATE in the subpopulations of compliers, we need the following assumptions\n",
    "- monotonicity that we have already mentioned, such that units are less likely to subscribe to medicaid if they win the lotery. That seems plausible\n",
    "- relevance, meaning that the instrument has a significant influence on the treatment assignment, which is supported by the estimated proportion of compliers and the correlation we have established previously\n",
    "- exclusion restriction, there is no effect of winning the lottery on health other than through the facto to subscribe to medicaid. It seems rather plausible, except if we consider the fact to be reminided by the lottery to take care of oneself and visit the doctor, in addition to subscribing to Medicaid. However, given the financial burden, seeking medical help is probably not independent from getting Medicaid.\n",
    "- instrument unconfoundedness, likely here because the instrument (lottery) is randomized.\n",
    "\n",
    "So we can identify the LATE.\n"
   ],
   "metadata": {}
  },
  {
   "cell_type": "code",
   "execution_count": 10,
   "source": [
    "#We add a constant to the dataset (this is going to be the intercept term of the model)\n",
    "sub_ohie = sub_ohie.assign(const = 1)\n",
    "for y in outcomes:\n",
    "    print(y, IV2SLS(dependent = sub_ohie[y], #outcome\n",
    "           endog = sub_ohie.ohp_all_ever_admin_bin, #treatment\n",
    "           exog = sub_ohie.const, #we just add a constant as covariate\n",
    "           instruments = sub_ohie.treatment_bin #Instrument\n",
    "          ).fit(cov_type = \"unadjusted\").summary)"
   ],
   "outputs": [
    {
     "output_type": "stream",
     "name": "stdout",
     "text": [
      "tab2bp_hyper                           IV-2SLS Estimation Summary                          \n",
      "==============================================================================\n",
      "Dep. Variable:           tab2bp_hyper   R-squared:                     -0.0003\n",
      "Estimator:                    IV-2SLS   Adj. R-squared:                -0.0004\n",
      "No. Observations:               11698   F-statistic:                    0.0290\n",
      "Date:                Sun, Dec 11 2022   P-value (F-stat)                0.8648\n",
      "Time:                        23:23:49   Distribution:                  chi2(1)\n",
      "Cov. Estimator:            unadjusted                                         \n",
      "                                                                              \n",
      "                                   Parameter Estimates                                    \n",
      "==========================================================================================\n",
      "                        Parameter  Std. Err.     T-stat    P-value    Lower CI    Upper CI\n",
      "------------------------------------------------------------------------------------------\n",
      "const                      0.1578     0.0084     18.791     0.0000      0.1413      0.1742\n",
      "ohp_all_ever_admin_bin     0.0046     0.0269     0.1702     0.8648     -0.0481      0.0573\n",
      "==========================================================================================\n",
      "\n",
      "Endogenous: ohp_all_ever_admin_bin\n",
      "Instruments: treatment_bin\n",
      "Unadjusted Covariance (Homoskedastic)\n",
      "Debiased: False\n",
      "tab2phqtot_high                           IV-2SLS Estimation Summary                          \n",
      "==============================================================================\n",
      "Dep. Variable:        tab2phqtot_high   R-squared:                     -0.0362\n",
      "Estimator:                    IV-2SLS   Adj. R-squared:                -0.0362\n",
      "No. Observations:               11698   F-statistic:                    18.099\n",
      "Date:                Sun, Dec 11 2022   P-value (F-stat)                0.0000\n",
      "Time:                        23:23:49   Distribution:                  chi2(1)\n",
      "Cov. Estimator:            unadjusted                                         \n",
      "                                                                              \n",
      "                                   Parameter Estimates                                    \n",
      "==========================================================================================\n",
      "                        Parameter  Std. Err.     T-stat    P-value    Lower CI    Upper CI\n",
      "------------------------------------------------------------------------------------------\n",
      "const                      0.3262     0.0105     30.921     0.0000      0.3055      0.3468\n",
      "ohp_all_ever_admin_bin    -0.1438     0.0338    -4.2543     0.0000     -0.2100     -0.0775\n",
      "==========================================================================================\n",
      "\n",
      "Endogenous: ohp_all_ever_admin_bin\n",
      "Instruments: treatment_bin\n",
      "Unadjusted Covariance (Homoskedastic)\n",
      "Debiased: False\n",
      "tab4_catastrophic_exp_inp                               IV-2SLS Estimation Summary                             \n",
      "=====================================================================================\n",
      "Dep. Variable:     tab4_catastrophic_exp_inp   R-squared:                     -0.0124\n",
      "Estimator:                           IV-2SLS   Adj. R-squared:                -0.0125\n",
      "No. Observations:                      11698   F-statistic:                    16.628\n",
      "Date:                       Sun, Dec 11 2022   P-value (F-stat)                0.0000\n",
      "Time:                               23:23:49   Distribution:                  chi2(1)\n",
      "Cov. Estimator:                   unadjusted                                         \n",
      "                                                                                     \n",
      "                                   Parameter Estimates                                    \n",
      "==========================================================================================\n",
      "                        Parameter  Std. Err.     T-stat    P-value    Lower CI    Upper CI\n",
      "------------------------------------------------------------------------------------------\n",
      "const                      0.0634     0.0048     13.183     0.0000      0.0540      0.0729\n",
      "ohp_all_ever_admin_bin    -0.0629     0.0154    -4.0777     0.0000     -0.0931     -0.0326\n",
      "==========================================================================================\n",
      "\n",
      "Endogenous: ohp_all_ever_admin_bin\n",
      "Instruments: treatment_bin\n",
      "Unadjusted Covariance (Homoskedastic)\n",
      "Debiased: False\n",
      "tab5_needmet_med_inp                            IV-2SLS Estimation Summary                           \n",
      "================================================================================\n",
      "Dep. Variable:     tab5_needmet_med_inp   R-squared:                     -0.0017\n",
      "Estimator:                      IV-2SLS   Adj. R-squared:                -0.0018\n",
      "No. Observations:                 11698   F-statistic:                    12.925\n",
      "Date:                  Sun, Dec 11 2022   P-value (F-stat)                0.0003\n",
      "Time:                          23:23:49   Distribution:                  chi2(1)\n",
      "Cov. Estimator:              unadjusted                                         \n",
      "                                                                                \n",
      "                                   Parameter Estimates                                    \n",
      "==========================================================================================\n",
      "                        Parameter  Std. Err.     T-stat    P-value    Lower CI    Upper CI\n",
      "------------------------------------------------------------------------------------------\n",
      "const                      0.5917     0.0111     53.293     0.0000      0.5699      0.6135\n",
      "ohp_all_ever_admin_bin     0.1279     0.0356     3.5952     0.0003      0.0582      0.1976\n",
      "==========================================================================================\n",
      "\n",
      "Endogenous: ohp_all_ever_admin_bin\n",
      "Instruments: treatment_bin\n",
      "Unadjusted Covariance (Homoskedastic)\n",
      "Debiased: False\n"
     ]
    }
   ],
   "metadata": {
    "ExecuteTime": {
     "end_time": "2022-12-11T22:23:49.428448Z",
     "start_time": "2022-12-11T22:23:48.888185Z"
    }
   }
  },
  {
   "cell_type": "markdown",
   "source": [
    "The IV estimate of Medicaid enrollment on elevated blood pressure is $-0.0046$ with a 95\\% confidence interval of $[-0.0481, 0.0573]$. We would fail to reject the null at $\\alpha = .05$ that there is no effect of Medicaid enrollment on blood pressure. This differs from the difference-in-means estimate (which suggested that enrollment reduced the incidence elevated blood pressure), suggesting that the naive association was primarily driven by unobserved confounding. We would conclude that enrollment does not affect the incidence of high blood pressure.\n",
    "\n",
    "\n",
    "The IV estimate of Medicaid enrollment on positive depression screening is $-0.1438$ with a 95\\% confidence interval of $[-0.2100, -0.0775]$. We would reject the null of no treatment effect at the $\\alpha = .05$ level and conclude that Medicaid enrollment reduced the incidence of screening positive for depression by about 14.4 percentage points.\n",
    "\n",
    "This differs substantially from the difference-in-means estimate, which suggested that Medicaid enrollment *raised* the incidence of depression. Using the IV strategy, we conclude the exact opposite. \n",
    "\n",
    "\n",
    "The IV estimate of Medicaid enrollment on catastrophic expenditures is $-0.0629$ with a 95\\% confidence interval of $[-0.0931, -0.0326]$. We would reject the null of no treatment effect at the $\\alpha = .05$ level and conclude that Medicaid enrollment reduced the incidence of catastrophic expenditures by about 6 percentage points.\n",
    "\n",
    "This is actually slightly larger than our naive difference-in-means estimate, though both estimates are in the same direction and both have confidence intervals that do not include zero. However, our CIs are much larger in the 2SLS case (which intuitively makes sense since we're leveraging only the variation induced by the instrument).\n",
    "\n",
    "The IV estimate of Medicaid enrollment on whether participants felt their medical needs were met is $0.1279$ with a 95\\% confidence interval of $[0.0582, 0.1976]$. We would reject the null of no treatment effect at the $\\alpha = .05$ level and conclude that Medicaid enrollment improved respondents' self-assessment of whether their medical needs were met.\n",
    "\n",
    "Again, this is larger than our naive difference-in-means estimate, though in the same direction (positive).\n",
    "\n",
    "\n",
    "IV estimates are local average treatment effects on the sub-population of \"compliers.\" In order to generalize to the entire population (including those who would always/never receive coverage irrespective of winning the lottery), we would have to assume that the average treatment effect is the same across always-takers, never-takers and compliers (in other words, there is no effect heterogeneity driven by the principal strata). A \"constant\" effects assumption would be a stronger version of this assumption (though in this case, constant effects is likely implausible).\n",
    "\n",
    "In this case, such a no-heterogeneity assumption may not be plausible."
   ],
   "metadata": {
    "ExecuteTime": {
     "end_time": "2022-12-06T10:41:42.363310Z",
     "start_time": "2022-12-06T10:41:30.711Z"
    }
   }
  },
  {
   "cell_type": "code",
   "execution_count": null,
   "source": [],
   "outputs": [],
   "metadata": {
    "ExecuteTime": {
     "end_time": "2022-12-06T10:41:42.364647Z",
     "start_time": "2022-12-06T10:41:30.746Z"
    }
   }
  },
  {
   "cell_type": "code",
   "execution_count": null,
   "source": [],
   "outputs": [],
   "metadata": {}
  },
  {
   "cell_type": "code",
   "execution_count": null,
   "source": [],
   "outputs": [],
   "metadata": {}
  },
  {
   "cell_type": "code",
   "execution_count": null,
   "source": [],
   "outputs": [],
   "metadata": {}
  },
  {
   "cell_type": "code",
   "execution_count": null,
   "source": [],
   "outputs": [],
   "metadata": {}
  },
  {
   "cell_type": "code",
   "execution_count": null,
   "source": [],
   "outputs": [],
   "metadata": {}
  },
  {
   "cell_type": "code",
   "execution_count": null,
   "source": [],
   "outputs": [],
   "metadata": {}
  },
  {
   "cell_type": "code",
   "execution_count": null,
   "source": [],
   "outputs": [],
   "metadata": {}
  },
  {
   "cell_type": "code",
   "execution_count": null,
   "source": [],
   "outputs": [],
   "metadata": {}
  },
  {
   "cell_type": "code",
   "execution_count": null,
   "source": [],
   "outputs": [],
   "metadata": {}
  },
  {
   "cell_type": "code",
   "execution_count": null,
   "source": [],
   "outputs": [],
   "metadata": {}
  },
  {
   "cell_type": "code",
   "execution_count": null,
   "source": [],
   "outputs": [],
   "metadata": {}
  }
 ],
 "metadata": {
  "hide_input": false,
  "kernelspec": {
   "display_name": "Python 3",
   "language": "python",
   "name": "python3"
  },
  "language_info": {
   "codemirror_mode": {
    "name": "ipython",
    "version": 3
   },
   "file_extension": ".py",
   "mimetype": "text/x-python",
   "name": "python",
   "nbconvert_exporter": "python",
   "pygments_lexer": "ipython3",
   "version": "3.7.4"
  },
  "latex_envs": {
   "LaTeX_envs_menu_present": true,
   "autoclose": false,
   "autocomplete": true,
   "bibliofile": "biblio.bib",
   "cite_by": "apalike",
   "current_citInitial": 1,
   "eqLabelWithNumbers": true,
   "eqNumInitial": 1,
   "hotkeys": {
    "equation": "Ctrl-E",
    "itemize": "Ctrl-I"
   },
   "labels_anchors": false,
   "latex_user_defs": false,
   "report_style_numbering": false,
   "user_envs_cfg": false
  },
  "toc": {
   "base_numbering": 1,
   "nav_menu": {},
   "number_sections": true,
   "sideBar": true,
   "skip_h1_title": false,
   "title_cell": "Table of Contents",
   "title_sidebar": "Contents",
   "toc_cell": false,
   "toc_position": {},
   "toc_section_display": true,
   "toc_window_display": false
  },
  "varInspector": {
   "cols": {
    "lenName": 16,
    "lenType": 16,
    "lenVar": 40
   },
   "kernels_config": {
    "python": {
     "delete_cmd_postfix": "",
     "delete_cmd_prefix": "del ",
     "library": "var_list.py",
     "varRefreshCmd": "print(var_dic_list())"
    },
    "r": {
     "delete_cmd_postfix": ") ",
     "delete_cmd_prefix": "rm(",
     "library": "var_list.r",
     "varRefreshCmd": "cat(var_dic_list()) "
    }
   },
   "types_to_exclude": [
    "module",
    "function",
    "builtin_function_or_method",
    "instance",
    "_Feature"
   ],
   "window_display": false
  }
 },
 "nbformat": 4,
 "nbformat_minor": 4
}