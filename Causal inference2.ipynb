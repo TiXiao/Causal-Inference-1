{
 "cells": [
  {
   "cell_type": "code",
   "execution_count": 1,
   "source": [
    "import pandas as pd\n",
    "import numpy as np\n",
    "import scipy.stats as sps\n",
    "import matplotlib.pyplot as plt"
   ],
   "outputs": [
    {
     "output_type": "stream",
     "name": "stderr",
     "text": [
      "\n",
      "Bad key \"text.kerning_factor\" on line 4 in\n",
      "/Users/JudithAbecassis/miniconda3/lib/python3.7/site-packages/matplotlib/mpl-data/stylelib/_classic_test_patch.mplstyle.\n",
      "You probably need to get an updated matplotlibrc file from\n",
      "https://github.com/matplotlib/matplotlib/blob/v3.1.3/matplotlibrc.template\n",
      "or from the matplotlib source distribution\n"
     ]
    }
   ],
   "metadata": {
    "ExecuteTime": {
     "end_time": "2022-11-10T14:25:44.651276Z",
     "start_time": "2022-11-10T14:25:30.740120Z"
    }
   }
  },
  {
   "cell_type": "code",
   "execution_count": 2,
   "source": [
    "gotv = pd.read_excel('../problem_set_1/gotv_individual.xlsx')"
   ],
   "outputs": [],
   "metadata": {
    "ExecuteTime": {
     "end_time": "2022-11-10T14:26:55.349827Z",
     "start_time": "2022-11-10T14:25:44.654348Z"
    }
   }
  },
  {
   "cell_type": "code",
   "execution_count": 3,
   "source": [
    "gotv.head()"
   ],
   "outputs": [
    {
     "output_type": "execute_result",
     "data": {
      "text/html": [
       "<div>\n",
       "<style scoped>\n",
       "    .dataframe tbody tr th:only-of-type {\n",
       "        vertical-align: middle;\n",
       "    }\n",
       "\n",
       "    .dataframe tbody tr th {\n",
       "        vertical-align: top;\n",
       "    }\n",
       "\n",
       "    .dataframe thead th {\n",
       "        text-align: right;\n",
       "    }\n",
       "</style>\n",
       "<table border=\"1\" class=\"dataframe\">\n",
       "  <thead>\n",
       "    <tr style=\"text-align: right;\">\n",
       "      <th></th>\n",
       "      <th>treatment</th>\n",
       "      <th>hh_id</th>\n",
       "      <th>hh_size</th>\n",
       "      <th>sex</th>\n",
       "      <th>yob</th>\n",
       "      <th>g2000</th>\n",
       "      <th>g2002</th>\n",
       "      <th>g2004</th>\n",
       "      <th>p2000</th>\n",
       "      <th>p2002</th>\n",
       "      <th>p2004</th>\n",
       "      <th>p2004_mean</th>\n",
       "      <th>g2004_mean</th>\n",
       "      <th>voted</th>\n",
       "    </tr>\n",
       "  </thead>\n",
       "  <tbody>\n",
       "    <tr>\n",
       "      <th>0</th>\n",
       "      <td>Civic Duty</td>\n",
       "      <td>1.0</td>\n",
       "      <td>2</td>\n",
       "      <td>male</td>\n",
       "      <td>1941</td>\n",
       "      <td>1</td>\n",
       "      <td>1</td>\n",
       "      <td>1</td>\n",
       "      <td>0</td>\n",
       "      <td>1</td>\n",
       "      <td>0</td>\n",
       "      <td>0.095238</td>\n",
       "      <td>0.857143</td>\n",
       "      <td>0</td>\n",
       "    </tr>\n",
       "    <tr>\n",
       "      <th>1</th>\n",
       "      <td>Civic Duty</td>\n",
       "      <td>1.0</td>\n",
       "      <td>2</td>\n",
       "      <td>female</td>\n",
       "      <td>1947</td>\n",
       "      <td>1</td>\n",
       "      <td>1</td>\n",
       "      <td>1</td>\n",
       "      <td>0</td>\n",
       "      <td>1</td>\n",
       "      <td>0</td>\n",
       "      <td>0.095238</td>\n",
       "      <td>0.857143</td>\n",
       "      <td>0</td>\n",
       "    </tr>\n",
       "    <tr>\n",
       "      <th>2</th>\n",
       "      <td>Hawthorne</td>\n",
       "      <td>2.0</td>\n",
       "      <td>3</td>\n",
       "      <td>male</td>\n",
       "      <td>1951</td>\n",
       "      <td>1</td>\n",
       "      <td>1</td>\n",
       "      <td>1</td>\n",
       "      <td>0</td>\n",
       "      <td>1</td>\n",
       "      <td>0</td>\n",
       "      <td>0.047619</td>\n",
       "      <td>0.857143</td>\n",
       "      <td>1</td>\n",
       "    </tr>\n",
       "    <tr>\n",
       "      <th>3</th>\n",
       "      <td>Hawthorne</td>\n",
       "      <td>2.0</td>\n",
       "      <td>3</td>\n",
       "      <td>female</td>\n",
       "      <td>1950</td>\n",
       "      <td>1</td>\n",
       "      <td>1</td>\n",
       "      <td>1</td>\n",
       "      <td>0</td>\n",
       "      <td>1</td>\n",
       "      <td>0</td>\n",
       "      <td>0.047619</td>\n",
       "      <td>0.857143</td>\n",
       "      <td>1</td>\n",
       "    </tr>\n",
       "    <tr>\n",
       "      <th>4</th>\n",
       "      <td>Hawthorne</td>\n",
       "      <td>2.0</td>\n",
       "      <td>3</td>\n",
       "      <td>female</td>\n",
       "      <td>1982</td>\n",
       "      <td>1</td>\n",
       "      <td>1</td>\n",
       "      <td>1</td>\n",
       "      <td>0</td>\n",
       "      <td>1</td>\n",
       "      <td>0</td>\n",
       "      <td>0.047619</td>\n",
       "      <td>0.857143</td>\n",
       "      <td>1</td>\n",
       "    </tr>\n",
       "  </tbody>\n",
       "</table>\n",
       "</div>"
      ],
      "text/plain": [
       "     treatment  hh_id  hh_size     sex   yob  g2000  g2002  g2004  p2000  \\\n",
       "0   Civic Duty    1.0        2    male  1941      1      1      1      0   \n",
       "1   Civic Duty    1.0        2  female  1947      1      1      1      0   \n",
       "2    Hawthorne    2.0        3    male  1951      1      1      1      0   \n",
       "3    Hawthorne    2.0        3  female  1950      1      1      1      0   \n",
       "4    Hawthorne    2.0        3  female  1982      1      1      1      0   \n",
       "\n",
       "   p2002  p2004  p2004_mean  g2004_mean  voted  \n",
       "0      1      0    0.095238    0.857143      0  \n",
       "1      1      0    0.095238    0.857143      0  \n",
       "2      1      0    0.047619    0.857143      1  \n",
       "3      1      0    0.047619    0.857143      1  \n",
       "4      1      0    0.047619    0.857143      1  "
      ]
     },
     "metadata": {},
     "execution_count": 3
    }
   ],
   "metadata": {
    "ExecuteTime": {
     "end_time": "2022-11-10T14:26:55.459488Z",
     "start_time": "2022-11-10T14:26:55.351816Z"
    }
   }
  },
  {
   "cell_type": "code",
   "execution_count": 4,
   "source": [
    "previous_elections = ['g2000', 'p2000', 'g2002', 'p2002', 'p2004']\n",
    "gotv = gotv.assign(num_voted=gotv[previous_elections].sum(axis=1))"
   ],
   "outputs": [],
   "metadata": {
    "ExecuteTime": {
     "end_time": "2022-11-10T14:26:55.529363Z",
     "start_time": "2022-11-10T14:26:55.462471Z"
    }
   }
  },
  {
   "cell_type": "markdown",
   "source": [
    "Let's check if the new column `num_voted` has the right properties."
   ],
   "metadata": {}
  },
  {
   "cell_type": "code",
   "execution_count": 5,
   "source": [
    "gotv.num_voted.value_counts()"
   ],
   "outputs": [
    {
     "output_type": "execute_result",
     "data": {
      "text/plain": [
       "3    136031\n",
       "2     80436\n",
       "4     65852\n",
       "1     26060\n",
       "0     21784\n",
       "5     13921\n",
       "Name: num_voted, dtype: int64"
      ]
     },
     "metadata": {},
     "execution_count": 5
    }
   ],
   "metadata": {
    "ExecuteTime": {
     "end_time": "2022-11-10T14:26:55.550631Z",
     "start_time": "2022-11-10T14:26:55.532643Z"
    }
   }
  },
  {
   "cell_type": "code",
   "execution_count": 6,
   "source": [
    "gotv = gotv.assign(id=gotv.index)\n",
    "final_cols = ['id', 'hh_id', 'hh_size', 'num_voted', 'voted', 'treatment']\n",
    "sub_gotv = gotv[gotv.treatment.isin([' Control', ' Neighbors'])][final_cols]\n",
    "gotv_house = sub_gotv.groupby(['hh_id', 'treatment'])['hh_size', 'num_voted', 'voted'].mean().reset_index(level=1)"
   ],
   "outputs": [],
   "metadata": {
    "ExecuteTime": {
     "end_time": "2022-11-10T14:26:55.870990Z",
     "start_time": "2022-11-10T14:26:55.556028Z"
    }
   }
  },
  {
   "cell_type": "code",
   "execution_count": 7,
   "source": [
    "gotv_house.head(10)"
   ],
   "outputs": [
    {
     "output_type": "execute_result",
     "data": {
      "text/html": [
       "<div>\n",
       "<style scoped>\n",
       "    .dataframe tbody tr th:only-of-type {\n",
       "        vertical-align: middle;\n",
       "    }\n",
       "\n",
       "    .dataframe tbody tr th {\n",
       "        vertical-align: top;\n",
       "    }\n",
       "\n",
       "    .dataframe thead th {\n",
       "        text-align: right;\n",
       "    }\n",
       "</style>\n",
       "<table border=\"1\" class=\"dataframe\">\n",
       "  <thead>\n",
       "    <tr style=\"text-align: right;\">\n",
       "      <th></th>\n",
       "      <th>treatment</th>\n",
       "      <th>hh_size</th>\n",
       "      <th>num_voted</th>\n",
       "      <th>voted</th>\n",
       "    </tr>\n",
       "    <tr>\n",
       "      <th>hh_id</th>\n",
       "      <th></th>\n",
       "      <th></th>\n",
       "      <th></th>\n",
       "      <th></th>\n",
       "    </tr>\n",
       "  </thead>\n",
       "  <tbody>\n",
       "    <tr>\n",
       "      <th>3.0</th>\n",
       "      <td>Control</td>\n",
       "      <td>3.0</td>\n",
       "      <td>2.00</td>\n",
       "      <td>0.666667</td>\n",
       "    </tr>\n",
       "    <tr>\n",
       "      <th>4.0</th>\n",
       "      <td>Control</td>\n",
       "      <td>2.0</td>\n",
       "      <td>2.00</td>\n",
       "      <td>0.000000</td>\n",
       "    </tr>\n",
       "    <tr>\n",
       "      <th>5.0</th>\n",
       "      <td>Control</td>\n",
       "      <td>1.0</td>\n",
       "      <td>3.00</td>\n",
       "      <td>1.000000</td>\n",
       "    </tr>\n",
       "    <tr>\n",
       "      <th>7.0</th>\n",
       "      <td>Control</td>\n",
       "      <td>1.0</td>\n",
       "      <td>2.00</td>\n",
       "      <td>0.000000</td>\n",
       "    </tr>\n",
       "    <tr>\n",
       "      <th>8.0</th>\n",
       "      <td>Control</td>\n",
       "      <td>2.0</td>\n",
       "      <td>4.50</td>\n",
       "      <td>1.000000</td>\n",
       "    </tr>\n",
       "    <tr>\n",
       "      <th>10.0</th>\n",
       "      <td>Control</td>\n",
       "      <td>1.0</td>\n",
       "      <td>3.00</td>\n",
       "      <td>1.000000</td>\n",
       "    </tr>\n",
       "    <tr>\n",
       "      <th>11.0</th>\n",
       "      <td>Neighbors</td>\n",
       "      <td>1.0</td>\n",
       "      <td>3.00</td>\n",
       "      <td>1.000000</td>\n",
       "    </tr>\n",
       "    <tr>\n",
       "      <th>13.0</th>\n",
       "      <td>Control</td>\n",
       "      <td>2.0</td>\n",
       "      <td>4.00</td>\n",
       "      <td>1.000000</td>\n",
       "    </tr>\n",
       "    <tr>\n",
       "      <th>14.0</th>\n",
       "      <td>Control</td>\n",
       "      <td>4.0</td>\n",
       "      <td>1.75</td>\n",
       "      <td>0.000000</td>\n",
       "    </tr>\n",
       "    <tr>\n",
       "      <th>16.0</th>\n",
       "      <td>Control</td>\n",
       "      <td>1.0</td>\n",
       "      <td>3.00</td>\n",
       "      <td>0.000000</td>\n",
       "    </tr>\n",
       "  </tbody>\n",
       "</table>\n",
       "</div>"
      ],
      "text/plain": [
       "        treatment  hh_size  num_voted     voted\n",
       "hh_id                                          \n",
       "3.0       Control      3.0       2.00  0.666667\n",
       "4.0       Control      2.0       2.00  0.000000\n",
       "5.0       Control      1.0       3.00  1.000000\n",
       "7.0       Control      1.0       2.00  0.000000\n",
       "8.0       Control      2.0       4.50  1.000000\n",
       "10.0      Control      1.0       3.00  1.000000\n",
       "11.0    Neighbors      1.0       3.00  1.000000\n",
       "13.0      Control      2.0       4.00  1.000000\n",
       "14.0      Control      4.0       1.75  0.000000\n",
       "16.0      Control      1.0       3.00  0.000000"
      ]
     },
     "metadata": {},
     "execution_count": 7
    }
   ],
   "metadata": {
    "ExecuteTime": {
     "end_time": "2022-11-10T14:26:55.886738Z",
     "start_time": "2022-11-10T14:26:55.874085Z"
    }
   }
  },
  {
   "cell_type": "code",
   "execution_count": 8,
   "source": [
    "gotv_house = gotv_house.assign(num_voted=np.round(gotv_house.num_voted))"
   ],
   "outputs": [],
   "metadata": {
    "ExecuteTime": {
     "end_time": "2022-11-10T14:26:55.900930Z",
     "start_time": "2022-11-10T14:26:55.890401Z"
    }
   }
  },
  {
   "cell_type": "code",
   "execution_count": 9,
   "source": [
    "# checking\n",
    "gotv_house.head(10)"
   ],
   "outputs": [
    {
     "output_type": "execute_result",
     "data": {
      "text/html": [
       "<div>\n",
       "<style scoped>\n",
       "    .dataframe tbody tr th:only-of-type {\n",
       "        vertical-align: middle;\n",
       "    }\n",
       "\n",
       "    .dataframe tbody tr th {\n",
       "        vertical-align: top;\n",
       "    }\n",
       "\n",
       "    .dataframe thead th {\n",
       "        text-align: right;\n",
       "    }\n",
       "</style>\n",
       "<table border=\"1\" class=\"dataframe\">\n",
       "  <thead>\n",
       "    <tr style=\"text-align: right;\">\n",
       "      <th></th>\n",
       "      <th>treatment</th>\n",
       "      <th>hh_size</th>\n",
       "      <th>num_voted</th>\n",
       "      <th>voted</th>\n",
       "    </tr>\n",
       "    <tr>\n",
       "      <th>hh_id</th>\n",
       "      <th></th>\n",
       "      <th></th>\n",
       "      <th></th>\n",
       "      <th></th>\n",
       "    </tr>\n",
       "  </thead>\n",
       "  <tbody>\n",
       "    <tr>\n",
       "      <th>3.0</th>\n",
       "      <td>Control</td>\n",
       "      <td>3.0</td>\n",
       "      <td>2.0</td>\n",
       "      <td>0.666667</td>\n",
       "    </tr>\n",
       "    <tr>\n",
       "      <th>4.0</th>\n",
       "      <td>Control</td>\n",
       "      <td>2.0</td>\n",
       "      <td>2.0</td>\n",
       "      <td>0.000000</td>\n",
       "    </tr>\n",
       "    <tr>\n",
       "      <th>5.0</th>\n",
       "      <td>Control</td>\n",
       "      <td>1.0</td>\n",
       "      <td>3.0</td>\n",
       "      <td>1.000000</td>\n",
       "    </tr>\n",
       "    <tr>\n",
       "      <th>7.0</th>\n",
       "      <td>Control</td>\n",
       "      <td>1.0</td>\n",
       "      <td>2.0</td>\n",
       "      <td>0.000000</td>\n",
       "    </tr>\n",
       "    <tr>\n",
       "      <th>8.0</th>\n",
       "      <td>Control</td>\n",
       "      <td>2.0</td>\n",
       "      <td>4.0</td>\n",
       "      <td>1.000000</td>\n",
       "    </tr>\n",
       "    <tr>\n",
       "      <th>10.0</th>\n",
       "      <td>Control</td>\n",
       "      <td>1.0</td>\n",
       "      <td>3.0</td>\n",
       "      <td>1.000000</td>\n",
       "    </tr>\n",
       "    <tr>\n",
       "      <th>11.0</th>\n",
       "      <td>Neighbors</td>\n",
       "      <td>1.0</td>\n",
       "      <td>3.0</td>\n",
       "      <td>1.000000</td>\n",
       "    </tr>\n",
       "    <tr>\n",
       "      <th>13.0</th>\n",
       "      <td>Control</td>\n",
       "      <td>2.0</td>\n",
       "      <td>4.0</td>\n",
       "      <td>1.000000</td>\n",
       "    </tr>\n",
       "    <tr>\n",
       "      <th>14.0</th>\n",
       "      <td>Control</td>\n",
       "      <td>4.0</td>\n",
       "      <td>2.0</td>\n",
       "      <td>0.000000</td>\n",
       "    </tr>\n",
       "    <tr>\n",
       "      <th>16.0</th>\n",
       "      <td>Control</td>\n",
       "      <td>1.0</td>\n",
       "      <td>3.0</td>\n",
       "      <td>0.000000</td>\n",
       "    </tr>\n",
       "  </tbody>\n",
       "</table>\n",
       "</div>"
      ],
      "text/plain": [
       "        treatment  hh_size  num_voted     voted\n",
       "hh_id                                          \n",
       "3.0       Control      3.0        2.0  0.666667\n",
       "4.0       Control      2.0        2.0  0.000000\n",
       "5.0       Control      1.0        3.0  1.000000\n",
       "7.0       Control      1.0        2.0  0.000000\n",
       "8.0       Control      2.0        4.0  1.000000\n",
       "10.0      Control      1.0        3.0  1.000000\n",
       "11.0    Neighbors      1.0        3.0  1.000000\n",
       "13.0      Control      2.0        4.0  1.000000\n",
       "14.0      Control      4.0        2.0  0.000000\n",
       "16.0      Control      1.0        3.0  0.000000"
      ]
     },
     "metadata": {},
     "execution_count": 9
    }
   ],
   "metadata": {
    "ExecuteTime": {
     "end_time": "2022-11-10T14:26:55.916432Z",
     "start_time": "2022-11-10T14:26:55.903808Z"
    }
   }
  },
  {
   "cell_type": "code",
   "execution_count": 10,
   "source": [
    "# checking\n",
    "gotv_house.num_voted.value_counts()"
   ],
   "outputs": [
    {
     "output_type": "execute_result",
     "data": {
      "text/plain": [
       "2.0    45153\n",
       "3.0    38744\n",
       "4.0    28926\n",
       "1.0     5479\n",
       "5.0     1235\n",
       "0.0      462\n",
       "Name: num_voted, dtype: int64"
      ]
     },
     "metadata": {},
     "execution_count": 10
    }
   ],
   "metadata": {
    "ExecuteTime": {
     "end_time": "2022-11-10T14:26:55.934585Z",
     "start_time": "2022-11-10T14:26:55.919756Z"
    }
   }
  },
  {
   "cell_type": "markdown",
   "source": [
    "Let's now look at the number of household in each subgroup for treatment and control."
   ],
   "metadata": {}
  },
  {
   "cell_type": "code",
   "execution_count": 11,
   "source": [
    "pd.crosstab(gotv_house.num_voted, gotv_house.treatment,\n",
    "            values=gotv_house.voted, aggfunc='count')"
   ],
   "outputs": [
    {
     "output_type": "execute_result",
     "data": {
      "text/html": [
       "<div>\n",
       "<style scoped>\n",
       "    .dataframe tbody tr th:only-of-type {\n",
       "        vertical-align: middle;\n",
       "    }\n",
       "\n",
       "    .dataframe tbody tr th {\n",
       "        vertical-align: top;\n",
       "    }\n",
       "\n",
       "    .dataframe thead th {\n",
       "        text-align: right;\n",
       "    }\n",
       "</style>\n",
       "<table border=\"1\" class=\"dataframe\">\n",
       "  <thead>\n",
       "    <tr style=\"text-align: right;\">\n",
       "      <th>treatment</th>\n",
       "      <th>Control</th>\n",
       "      <th>Neighbors</th>\n",
       "    </tr>\n",
       "    <tr>\n",
       "      <th>num_voted</th>\n",
       "      <th></th>\n",
       "      <th></th>\n",
       "    </tr>\n",
       "  </thead>\n",
       "  <tbody>\n",
       "    <tr>\n",
       "      <th>0.0</th>\n",
       "      <td>383</td>\n",
       "      <td>79</td>\n",
       "    </tr>\n",
       "    <tr>\n",
       "      <th>1.0</th>\n",
       "      <td>4572</td>\n",
       "      <td>907</td>\n",
       "    </tr>\n",
       "    <tr>\n",
       "      <th>2.0</th>\n",
       "      <td>37602</td>\n",
       "      <td>7551</td>\n",
       "    </tr>\n",
       "    <tr>\n",
       "      <th>3.0</th>\n",
       "      <td>32290</td>\n",
       "      <td>6454</td>\n",
       "    </tr>\n",
       "    <tr>\n",
       "      <th>4.0</th>\n",
       "      <td>24138</td>\n",
       "      <td>4788</td>\n",
       "    </tr>\n",
       "    <tr>\n",
       "      <th>5.0</th>\n",
       "      <td>1014</td>\n",
       "      <td>221</td>\n",
       "    </tr>\n",
       "  </tbody>\n",
       "</table>\n",
       "</div>"
      ],
      "text/plain": [
       "treatment   Control   Neighbors\n",
       "num_voted                      \n",
       "0.0             383          79\n",
       "1.0            4572         907\n",
       "2.0           37602        7551\n",
       "3.0           32290        6454\n",
       "4.0           24138        4788\n",
       "5.0            1014         221"
      ]
     },
     "metadata": {},
     "execution_count": 11
    }
   ],
   "metadata": {
    "ExecuteTime": {
     "end_time": "2022-11-10T14:26:55.990608Z",
     "start_time": "2022-11-10T14:26:55.940283Z"
    }
   }
  },
  {
   "cell_type": "markdown",
   "source": [
    "It can be hard to interprete, let's look at the proportions in each subgroup."
   ],
   "metadata": {}
  },
  {
   "cell_type": "code",
   "execution_count": 12,
   "source": [
    "pd.crosstab(gotv_house.num_voted, gotv_house.treatment, values=gotv_house.voted,\n",
    "            aggfunc='count', normalize='columns')"
   ],
   "outputs": [
    {
     "output_type": "execute_result",
     "data": {
      "text/html": [
       "<div>\n",
       "<style scoped>\n",
       "    .dataframe tbody tr th:only-of-type {\n",
       "        vertical-align: middle;\n",
       "    }\n",
       "\n",
       "    .dataframe tbody tr th {\n",
       "        vertical-align: top;\n",
       "    }\n",
       "\n",
       "    .dataframe thead th {\n",
       "        text-align: right;\n",
       "    }\n",
       "</style>\n",
       "<table border=\"1\" class=\"dataframe\">\n",
       "  <thead>\n",
       "    <tr style=\"text-align: right;\">\n",
       "      <th>treatment</th>\n",
       "      <th>Control</th>\n",
       "      <th>Neighbors</th>\n",
       "    </tr>\n",
       "    <tr>\n",
       "      <th>num_voted</th>\n",
       "      <th></th>\n",
       "      <th></th>\n",
       "    </tr>\n",
       "  </thead>\n",
       "  <tbody>\n",
       "    <tr>\n",
       "      <th>0.0</th>\n",
       "      <td>0.003830</td>\n",
       "      <td>0.00395</td>\n",
       "    </tr>\n",
       "    <tr>\n",
       "      <th>1.0</th>\n",
       "      <td>0.045720</td>\n",
       "      <td>0.04535</td>\n",
       "    </tr>\n",
       "    <tr>\n",
       "      <th>2.0</th>\n",
       "      <td>0.376024</td>\n",
       "      <td>0.37755</td>\n",
       "    </tr>\n",
       "    <tr>\n",
       "      <th>3.0</th>\n",
       "      <td>0.322903</td>\n",
       "      <td>0.32270</td>\n",
       "    </tr>\n",
       "    <tr>\n",
       "      <th>4.0</th>\n",
       "      <td>0.241382</td>\n",
       "      <td>0.23940</td>\n",
       "    </tr>\n",
       "    <tr>\n",
       "      <th>5.0</th>\n",
       "      <td>0.010140</td>\n",
       "      <td>0.01105</td>\n",
       "    </tr>\n",
       "  </tbody>\n",
       "</table>\n",
       "</div>"
      ],
      "text/plain": [
       "treatment   Control   Neighbors\n",
       "num_voted                      \n",
       "0.0        0.003830     0.00395\n",
       "1.0        0.045720     0.04535\n",
       "2.0        0.376024     0.37755\n",
       "3.0        0.322903     0.32270\n",
       "4.0        0.241382     0.23940\n",
       "5.0        0.010140     0.01105"
      ]
     },
     "metadata": {},
     "execution_count": 12
    }
   ],
   "metadata": {
    "ExecuteTime": {
     "end_time": "2022-11-10T14:26:56.139292Z",
     "start_time": "2022-11-10T14:26:55.992787Z"
    }
   }
  },
  {
   "cell_type": "markdown",
   "source": [
    "We have exactly the same proportion of each subgroup in the two treatment levels."
   ],
   "metadata": {}
  },
  {
   "cell_type": "code",
   "execution_count": 13,
   "source": [
    "res_list = []\n",
    "for i in range(6):\n",
    "    sub_gotv_house = gotv_house[gotv_house.num_voted==i]\n",
    "    cate = sub_gotv_house[sub_gotv_house.treatment==' Neighbors'].voted.mean() - sub_gotv_house[sub_gotv_house.treatment==' Control'].voted.mean()\n",
    "    var_cate = sub_gotv_house[sub_gotv_house.treatment==' Neighbors'].voted.var() / len(sub_gotv_house[sub_gotv_house.treatment==' Neighbors']) +\\\n",
    "        sub_gotv_house[sub_gotv_house.treatment==' Control'].voted.var() / len(sub_gotv_house[sub_gotv_house.treatment==' Control'])\n",
    "    ci_low = cate - sps.norm.ppf(0.975) * np.sqrt(var_cate)\n",
    "    ci_high = cate + sps.norm.ppf(0.975) * np.sqrt(var_cate)\n",
    "    n_x = len(sub_gotv_house)\n",
    "    res_list.append([cate, var_cate, ci_low, ci_high, n_x])\n",
    "res_df = pd.DataFrame(res_list, columns=['cate', 'var_cate', \"ci_low\", \"ci_high\", \"n_x\"])\n",
    "res_df"
   ],
   "outputs": [
    {
     "output_type": "execute_result",
     "data": {
      "text/html": [
       "<div>\n",
       "<style scoped>\n",
       "    .dataframe tbody tr th:only-of-type {\n",
       "        vertical-align: middle;\n",
       "    }\n",
       "\n",
       "    .dataframe tbody tr th {\n",
       "        vertical-align: top;\n",
       "    }\n",
       "\n",
       "    .dataframe thead th {\n",
       "        text-align: right;\n",
       "    }\n",
       "</style>\n",
       "<table border=\"1\" class=\"dataframe\">\n",
       "  <thead>\n",
       "    <tr style=\"text-align: right;\">\n",
       "      <th></th>\n",
       "      <th>cate</th>\n",
       "      <th>var_cate</th>\n",
       "      <th>ci_low</th>\n",
       "      <th>ci_high</th>\n",
       "      <th>n_x</th>\n",
       "    </tr>\n",
       "  </thead>\n",
       "  <tbody>\n",
       "    <tr>\n",
       "      <th>0</th>\n",
       "      <td>0.101533</td>\n",
       "      <td>0.002522</td>\n",
       "      <td>0.003112</td>\n",
       "      <td>0.199954</td>\n",
       "      <td>462</td>\n",
       "    </tr>\n",
       "    <tr>\n",
       "      <th>1</th>\n",
       "      <td>0.068650</td>\n",
       "      <td>0.000175</td>\n",
       "      <td>0.042741</td>\n",
       "      <td>0.094559</td>\n",
       "      <td>5479</td>\n",
       "    </tr>\n",
       "    <tr>\n",
       "      <th>2</th>\n",
       "      <td>0.068592</td>\n",
       "      <td>0.000025</td>\n",
       "      <td>0.058839</td>\n",
       "      <td>0.078344</td>\n",
       "      <td>45153</td>\n",
       "    </tr>\n",
       "    <tr>\n",
       "      <th>3</th>\n",
       "      <td>0.097372</td>\n",
       "      <td>0.000039</td>\n",
       "      <td>0.085200</td>\n",
       "      <td>0.109544</td>\n",
       "      <td>38744</td>\n",
       "    </tr>\n",
       "    <tr>\n",
       "      <th>4</th>\n",
       "      <td>0.098715</td>\n",
       "      <td>0.000052</td>\n",
       "      <td>0.084532</td>\n",
       "      <td>0.112898</td>\n",
       "      <td>28926</td>\n",
       "    </tr>\n",
       "    <tr>\n",
       "      <th>5</th>\n",
       "      <td>0.040374</td>\n",
       "      <td>0.001253</td>\n",
       "      <td>-0.029007</td>\n",
       "      <td>0.109755</td>\n",
       "      <td>1235</td>\n",
       "    </tr>\n",
       "  </tbody>\n",
       "</table>\n",
       "</div>"
      ],
      "text/plain": [
       "       cate  var_cate    ci_low   ci_high    n_x\n",
       "0  0.101533  0.002522  0.003112  0.199954    462\n",
       "1  0.068650  0.000175  0.042741  0.094559   5479\n",
       "2  0.068592  0.000025  0.058839  0.078344  45153\n",
       "3  0.097372  0.000039  0.085200  0.109544  38744\n",
       "4  0.098715  0.000052  0.084532  0.112898  28926\n",
       "5  0.040374  0.001253 -0.029007  0.109755   1235"
      ]
     },
     "metadata": {},
     "execution_count": 13
    }
   ],
   "metadata": {
    "ExecuteTime": {
     "end_time": "2022-11-10T14:26:56.278193Z",
     "start_time": "2022-11-10T14:26:56.142104Z"
    }
   }
  },
  {
   "cell_type": "markdown",
   "source": [
    "We see a positive significant effect on all the groups of the same order of magnitude, except the group where the household voted at all of the previous elections, where the effect is not significant."
   ],
   "metadata": {}
  },
  {
   "cell_type": "code",
   "execution_count": 14,
   "source": [
    "delta_hat = res_df.iloc[0].cate - res_df.iloc[5].cate\n",
    "var_delta_hat = res_df.iloc[0].var_cate + res_df.iloc[5].var_cate\n",
    "ci_delta = [delta_hat - sps.norm.ppf(0.975) * np.sqrt(var_delta_hat),\n",
    "            delta_hat + sps.norm.ppf(0.975) * np.sqrt(var_delta_hat)]\n",
    "print(delta_hat, var_delta_hat, ci_delta)"
   ],
   "outputs": [
    {
     "output_type": "stream",
     "name": "stdout",
     "text": [
      "0.061158998627744876 0.003774726097855774 [-0.05925883586662052, 0.18157683312211026]\n"
     ]
    }
   ],
   "metadata": {
    "ExecuteTime": {
     "end_time": "2022-11-10T14:26:56.290447Z",
     "start_time": "2022-11-10T14:26:56.280816Z"
    }
   }
  },
  {
   "cell_type": "markdown",
   "source": [
    "Between the most two extreme groups, i.e. people who never vote and people who always vote, we don't find a significant difference in the treatment effect. So even if we can't reject the null hypothesis of no effect in the group of people who always vote, we don't have enough power to reject the null hypothesis of a different treatment effect among the subgroups. This may seem paradoxical, but what we can say intuitively is that we have enough statistical power to distinguidh the effect in the people who never vote from zero, but not from 0.04. To increase our statistical power, we can consider a larger sample size. We discuss something related in question 4 (we see the effect of having a smaller sample size in each group).\n",
    "\n",
    "Suppose the overall sample size is $N_c$ and $N_t$, as the number of groups x increase, we can assume that the sample size for each group is evenly spread as $N_c/x$ or $N_t/x$. Recall that in our calculation of confidence interval, we are taking a factor of group sizes by $\\sqrt(n)$. Thus, if we increase the number of subgroup from 1 to 16, the confidence interval we are getting could increase by $sqrt(16) = 4$, so the new CI could be 4 times the former one, where ATE would have to be much larger for the differences to be significant. \n",
    "\n",
    "(An intuitive explanation of how increasing number of subgroup/multiple hypothesis testing would lead to decrease in sample size per group, and ultimately required larger ATE to have significant difference)"
   ],
   "metadata": {}
  },
  {
   "cell_type": "code",
   "execution_count": 15,
   "source": [
    "ate = gotv_house[gotv_house.treatment==' Neighbors'].voted.mean() - \\\n",
    "    gotv_house[gotv_house.treatment==' Control'].voted.mean()\n",
    "var_ate = gotv_house[gotv_house.treatment==' Neighbors'].voted.var() /\\\n",
    "    len(gotv_house[gotv_house.treatment==' Neighbors']) + \\\n",
    "    gotv_house[gotv_house.treatment==' Control'].voted.var() /\\\n",
    "    len(gotv_house[gotv_house.treatment==' Control'])\n",
    "ci_ate = [ate - sps.norm.ppf(0.975) * np.sqrt(var_ate),\n",
    "          ate + sps.norm.ppf(0.975) * np.sqrt(var_ate)]\n",
    "\n",
    "print(ate, var_ate, ci_ate)"
   ],
   "outputs": [
    {
     "output_type": "stream",
     "name": "stdout",
     "text": [
      "0.08478807597718824 1.1568354434982345e-05 [0.07812179086588532, 0.09145436108849116]\n"
     ]
    }
   ],
   "metadata": {
    "ExecuteTime": {
     "end_time": "2022-11-10T14:26:56.395459Z",
     "start_time": "2022-11-10T14:26:56.293576Z"
    }
   }
  },
  {
   "cell_type": "code",
   "execution_count": 16,
   "source": [
    "tau_block = np.sum(res_df.cate * res_df.n_x) / len(gotv_house)\n",
    "tau_block"
   ],
   "outputs": [
    {
     "output_type": "execute_result",
     "data": {
      "text/plain": [
       "0.0849843855593769"
      ]
     },
     "metadata": {},
     "execution_count": 16
    }
   ],
   "metadata": {
    "ExecuteTime": {
     "end_time": "2022-11-10T14:26:56.408028Z",
     "start_time": "2022-11-10T14:26:56.400406Z"
    }
   }
  },
  {
   "cell_type": "code",
   "execution_count": 17,
   "source": [
    "var_tau_block = np.sum(res_df.var_cate * res_df.n_x**2) / len(gotv_house)**2\n",
    "var_tau_block"
   ],
   "outputs": [
    {
     "output_type": "execute_result",
     "data": {
      "text/plain": [
       "1.110373595388372e-05"
      ]
     },
     "metadata": {},
     "execution_count": 17
    }
   ],
   "metadata": {
    "ExecuteTime": {
     "end_time": "2022-11-10T14:26:56.420058Z",
     "start_time": "2022-11-10T14:26:56.411755Z"
    }
   }
  },
  {
   "cell_type": "code",
   "execution_count": 18,
   "source": [
    "ci_tau_block = [tau_block - sps.norm.ppf(0.975) * np.sqrt(var_tau_block),\n",
    "                tau_block + sps.norm.ppf(0.975) * np.sqrt(var_tau_block)]\n",
    "print(ci_tau_block)"
   ],
   "outputs": [
    {
     "output_type": "stream",
     "name": "stdout",
     "text": [
      "[0.0784533408938808, 0.091515430224873]\n"
     ]
    }
   ],
   "metadata": {
    "ExecuteTime": {
     "end_time": "2022-11-10T14:26:56.431081Z",
     "start_time": "2022-11-10T14:26:56.423028Z"
    }
   }
  },
  {
   "cell_type": "markdown",
   "source": [
    "We observe a subtle difference between the two estimators.Probably because the stratifying variable is not that strongly correlated with the outcome. We verify experimentally that $Var(\\hat{\\tau}) \\geq Var(\\hat{\\tau}_{block})$.\n"
   ],
   "metadata": {}
  },
  {
   "cell_type": "code",
   "execution_count": 19,
   "source": [
    "gotv_house.treatment.value_counts() % 6"
   ],
   "outputs": [
    {
     "output_type": "execute_result",
     "data": {
      "text/plain": [
       " Control      3\n",
       " Neighbors    2\n",
       "Name: treatment, dtype: int64"
      ]
     },
     "metadata": {},
     "execution_count": 19
    }
   ],
   "metadata": {
    "ExecuteTime": {
     "end_time": "2022-11-10T14:26:56.460452Z",
     "start_time": "2022-11-10T14:26:56.434395Z"
    }
   }
  },
  {
   "cell_type": "code",
   "execution_count": 20,
   "source": [
    "# we remote some units to have a number of units divi\n",
    "rg = np.random.default_rng(12)\n",
    "pre_control = gotv_house[gotv_house.treatment==' Control']\n",
    "control = pre_control.sample(len(pre_control) - len(pre_control) % 6)\n",
    "pre_neighbors = gotv_house[gotv_house.treatment==' Neighbors']\n",
    "neighbors = pre_neighbors.sample(len(pre_neighbors) - len(pre_neighbors) % 6)\n",
    "\n",
    "control_groups = list(range(6)) * int(len(control) / 6)\n",
    "neighbors_groups = list(range(6)) * int(len(neighbors) / 6)\n",
    "\n",
    "control = control.assign(groups=rg.permutation(control_groups))\n",
    "neighbors = neighbors.assign(groups=rg.permutation(neighbors_groups))\n",
    "\n",
    "new_gotv_house = pd.concat([control, neighbors])"
   ],
   "outputs": [],
   "metadata": {
    "ExecuteTime": {
     "end_time": "2022-11-10T14:26:56.591274Z",
     "start_time": "2022-11-10T14:26:56.469309Z"
    }
   }
  },
  {
   "cell_type": "code",
   "execution_count": 21,
   "source": [
    "control.head(10)"
   ],
   "outputs": [
    {
     "output_type": "execute_result",
     "data": {
      "text/html": [
       "<div>\n",
       "<style scoped>\n",
       "    .dataframe tbody tr th:only-of-type {\n",
       "        vertical-align: middle;\n",
       "    }\n",
       "\n",
       "    .dataframe tbody tr th {\n",
       "        vertical-align: top;\n",
       "    }\n",
       "\n",
       "    .dataframe thead th {\n",
       "        text-align: right;\n",
       "    }\n",
       "</style>\n",
       "<table border=\"1\" class=\"dataframe\">\n",
       "  <thead>\n",
       "    <tr style=\"text-align: right;\">\n",
       "      <th></th>\n",
       "      <th>treatment</th>\n",
       "      <th>hh_size</th>\n",
       "      <th>num_voted</th>\n",
       "      <th>voted</th>\n",
       "      <th>groups</th>\n",
       "    </tr>\n",
       "    <tr>\n",
       "      <th>hh_id</th>\n",
       "      <th></th>\n",
       "      <th></th>\n",
       "      <th></th>\n",
       "      <th></th>\n",
       "      <th></th>\n",
       "    </tr>\n",
       "  </thead>\n",
       "  <tbody>\n",
       "    <tr>\n",
       "      <th>50569.0</th>\n",
       "      <td>Control</td>\n",
       "      <td>2.0</td>\n",
       "      <td>4.0</td>\n",
       "      <td>0.000000</td>\n",
       "      <td>5</td>\n",
       "    </tr>\n",
       "    <tr>\n",
       "      <th>162826.0</th>\n",
       "      <td>Control</td>\n",
       "      <td>3.0</td>\n",
       "      <td>2.0</td>\n",
       "      <td>0.333333</td>\n",
       "      <td>2</td>\n",
       "    </tr>\n",
       "    <tr>\n",
       "      <th>93815.0</th>\n",
       "      <td>Control</td>\n",
       "      <td>2.0</td>\n",
       "      <td>4.0</td>\n",
       "      <td>1.000000</td>\n",
       "      <td>5</td>\n",
       "    </tr>\n",
       "    <tr>\n",
       "      <th>4043.0</th>\n",
       "      <td>Control</td>\n",
       "      <td>2.0</td>\n",
       "      <td>2.0</td>\n",
       "      <td>0.000000</td>\n",
       "      <td>3</td>\n",
       "    </tr>\n",
       "    <tr>\n",
       "      <th>6155.0</th>\n",
       "      <td>Control</td>\n",
       "      <td>2.0</td>\n",
       "      <td>4.0</td>\n",
       "      <td>1.000000</td>\n",
       "      <td>4</td>\n",
       "    </tr>\n",
       "    <tr>\n",
       "      <th>67787.0</th>\n",
       "      <td>Control</td>\n",
       "      <td>2.0</td>\n",
       "      <td>3.0</td>\n",
       "      <td>0.000000</td>\n",
       "      <td>3</td>\n",
       "    </tr>\n",
       "    <tr>\n",
       "      <th>127769.0</th>\n",
       "      <td>Control</td>\n",
       "      <td>1.0</td>\n",
       "      <td>2.0</td>\n",
       "      <td>0.000000</td>\n",
       "      <td>2</td>\n",
       "    </tr>\n",
       "    <tr>\n",
       "      <th>75987.0</th>\n",
       "      <td>Control</td>\n",
       "      <td>2.0</td>\n",
       "      <td>3.0</td>\n",
       "      <td>0.000000</td>\n",
       "      <td>5</td>\n",
       "    </tr>\n",
       "    <tr>\n",
       "      <th>74141.0</th>\n",
       "      <td>Control</td>\n",
       "      <td>2.0</td>\n",
       "      <td>3.0</td>\n",
       "      <td>0.000000</td>\n",
       "      <td>3</td>\n",
       "    </tr>\n",
       "    <tr>\n",
       "      <th>96838.0</th>\n",
       "      <td>Control</td>\n",
       "      <td>2.0</td>\n",
       "      <td>4.0</td>\n",
       "      <td>0.000000</td>\n",
       "      <td>4</td>\n",
       "    </tr>\n",
       "  </tbody>\n",
       "</table>\n",
       "</div>"
      ],
      "text/plain": [
       "         treatment  hh_size  num_voted     voted  groups\n",
       "hh_id                                                   \n",
       "50569.0    Control      2.0        4.0  0.000000       5\n",
       "162826.0   Control      3.0        2.0  0.333333       2\n",
       "93815.0    Control      2.0        4.0  1.000000       5\n",
       "4043.0     Control      2.0        2.0  0.000000       3\n",
       "6155.0     Control      2.0        4.0  1.000000       4\n",
       "67787.0    Control      2.0        3.0  0.000000       3\n",
       "127769.0   Control      1.0        2.0  0.000000       2\n",
       "75987.0    Control      2.0        3.0  0.000000       5\n",
       "74141.0    Control      2.0        3.0  0.000000       3\n",
       "96838.0    Control      2.0        4.0  0.000000       4"
      ]
     },
     "metadata": {},
     "execution_count": 21
    }
   ],
   "metadata": {
    "ExecuteTime": {
     "end_time": "2022-11-10T14:26:56.619836Z",
     "start_time": "2022-11-10T14:26:56.597097Z"
    }
   }
  },
  {
   "cell_type": "code",
   "execution_count": 22,
   "source": [
    "res_list = []\n",
    "for i in range(6):\n",
    "    sub_gotv_house = new_gotv_house[new_gotv_house.groups==i]\n",
    "    cate = sub_gotv_house[sub_gotv_house.treatment==' Neighbors'].voted.mean() -\\\n",
    "        sub_gotv_house[sub_gotv_house.treatment==' Control'].voted.mean()\n",
    "    var_cate = sub_gotv_house[sub_gotv_house.treatment==' Neighbors'].voted.var() / \\\n",
    "        len(sub_gotv_house[sub_gotv_house.treatment==' Neighbors']) +\\\n",
    "        sub_gotv_house[sub_gotv_house.treatment==' Control'].voted.var() /\\\n",
    "        len(sub_gotv_house[sub_gotv_house.treatment==' Control'])\n",
    "    ci_low = cate - sps.norm.ppf(0.975) * np.sqrt(var_cate)\n",
    "    ci_high = cate + sps.norm.ppf(0.975) * np.sqrt(var_cate)\n",
    "    n_x = len(sub_gotv_house)\n",
    "    res_list.append([cate, var_cate, ci_low, ci_high, n_x])\n",
    "new_res_df = pd.DataFrame(res_list, columns=['cate', 'var_cate', \"ci_low\", \"ci_high\", \"n_x\"])\n",
    "new_res_df"
   ],
   "outputs": [
    {
     "output_type": "execute_result",
     "data": {
      "text/html": [
       "<div>\n",
       "<style scoped>\n",
       "    .dataframe tbody tr th:only-of-type {\n",
       "        vertical-align: middle;\n",
       "    }\n",
       "\n",
       "    .dataframe tbody tr th {\n",
       "        vertical-align: top;\n",
       "    }\n",
       "\n",
       "    .dataframe thead th {\n",
       "        text-align: right;\n",
       "    }\n",
       "</style>\n",
       "<table border=\"1\" class=\"dataframe\">\n",
       "  <thead>\n",
       "    <tr style=\"text-align: right;\">\n",
       "      <th></th>\n",
       "      <th>cate</th>\n",
       "      <th>var_cate</th>\n",
       "      <th>ci_low</th>\n",
       "      <th>ci_high</th>\n",
       "      <th>n_x</th>\n",
       "    </tr>\n",
       "  </thead>\n",
       "  <tbody>\n",
       "    <tr>\n",
       "      <th>0</th>\n",
       "      <td>0.067578</td>\n",
       "      <td>0.000068</td>\n",
       "      <td>0.051389</td>\n",
       "      <td>0.083767</td>\n",
       "      <td>19999</td>\n",
       "    </tr>\n",
       "    <tr>\n",
       "      <th>1</th>\n",
       "      <td>0.091207</td>\n",
       "      <td>0.000070</td>\n",
       "      <td>0.074787</td>\n",
       "      <td>0.107626</td>\n",
       "      <td>19999</td>\n",
       "    </tr>\n",
       "    <tr>\n",
       "      <th>2</th>\n",
       "      <td>0.094024</td>\n",
       "      <td>0.000070</td>\n",
       "      <td>0.077656</td>\n",
       "      <td>0.110391</td>\n",
       "      <td>19999</td>\n",
       "    </tr>\n",
       "    <tr>\n",
       "      <th>3</th>\n",
       "      <td>0.074438</td>\n",
       "      <td>0.000069</td>\n",
       "      <td>0.058105</td>\n",
       "      <td>0.090771</td>\n",
       "      <td>19999</td>\n",
       "    </tr>\n",
       "    <tr>\n",
       "      <th>4</th>\n",
       "      <td>0.097255</td>\n",
       "      <td>0.000070</td>\n",
       "      <td>0.080858</td>\n",
       "      <td>0.113652</td>\n",
       "      <td>19999</td>\n",
       "    </tr>\n",
       "    <tr>\n",
       "      <th>5</th>\n",
       "      <td>0.084466</td>\n",
       "      <td>0.000069</td>\n",
       "      <td>0.068202</td>\n",
       "      <td>0.100730</td>\n",
       "      <td>19999</td>\n",
       "    </tr>\n",
       "  </tbody>\n",
       "</table>\n",
       "</div>"
      ],
      "text/plain": [
       "       cate  var_cate    ci_low   ci_high    n_x\n",
       "0  0.067578  0.000068  0.051389  0.083767  19999\n",
       "1  0.091207  0.000070  0.074787  0.107626  19999\n",
       "2  0.094024  0.000070  0.077656  0.110391  19999\n",
       "3  0.074438  0.000069  0.058105  0.090771  19999\n",
       "4  0.097255  0.000070  0.080858  0.113652  19999\n",
       "5  0.084466  0.000069  0.068202  0.100730  19999"
      ]
     },
     "metadata": {},
     "execution_count": 22
    }
   ],
   "metadata": {
    "ExecuteTime": {
     "end_time": "2022-11-10T14:26:56.772179Z",
     "start_time": "2022-11-10T14:26:56.623508Z"
    }
   }
  },
  {
   "cell_type": "code",
   "execution_count": 23,
   "source": [
    "new_tau_block = np.sum(new_res_df.cate * new_res_df.n_x) / len(new_gotv_house)\n",
    "new_tau_block"
   ],
   "outputs": [
    {
     "output_type": "execute_result",
     "data": {
      "text/plain": [
       "0.08482786020397422"
      ]
     },
     "metadata": {},
     "execution_count": 23
    }
   ],
   "metadata": {
    "ExecuteTime": {
     "end_time": "2022-11-10T14:26:56.780701Z",
     "start_time": "2022-11-10T14:26:56.774077Z"
    }
   }
  },
  {
   "cell_type": "code",
   "execution_count": 24,
   "source": [
    "new_var_tau_block = np.sum(new_res_df.var_cate * new_res_df.n_x**2) / len(new_gotv_house)**2\n",
    "new_var_tau_block"
   ],
   "outputs": [
    {
     "output_type": "execute_result",
     "data": {
      "text/plain": [
       "1.1567600360170545e-05"
      ]
     },
     "metadata": {},
     "execution_count": 24
    }
   ],
   "metadata": {
    "ExecuteTime": {
     "end_time": "2022-11-10T14:26:56.793040Z",
     "start_time": "2022-11-10T14:26:56.784489Z"
    }
   }
  },
  {
   "cell_type": "code",
   "execution_count": 25,
   "source": [
    "new_ci_tau_block = [new_tau_block - sps.norm.ppf(0.975) * np.sqrt(new_var_tau_block),\n",
    "                    new_tau_block + sps.norm.ppf(0.975) * np.sqrt(new_var_tau_block)]\n",
    "print(new_ci_tau_block)"
   ],
   "outputs": [
    {
     "output_type": "stream",
     "name": "stdout",
     "text": [
      "[0.07816179236469732, 0.09149392804325111]\n"
     ]
    }
   ],
   "metadata": {
    "ExecuteTime": {
     "end_time": "2022-11-10T14:26:56.802953Z",
     "start_time": "2022-11-10T14:26:56.796177Z"
    }
   }
  },
  {
   "cell_type": "code",
   "execution_count": null,
   "source": [],
   "outputs": [],
   "metadata": {}
  }
 ],
 "metadata": {
  "hide_input": false,
  "kernelspec": {
   "display_name": "Python 3",
   "language": "python",
   "name": "python3"
  },
  "language_info": {
   "codemirror_mode": {
    "name": "ipython",
    "version": 3
   },
   "file_extension": ".py",
   "mimetype": "text/x-python",
   "name": "python",
   "nbconvert_exporter": "python",
   "pygments_lexer": "ipython3",
   "version": "3.7.4"
  },
  "latex_envs": {
   "LaTeX_envs_menu_present": true,
   "autoclose": false,
   "autocomplete": true,
   "bibliofile": "biblio.bib",
   "cite_by": "apalike",
   "current_citInitial": 1,
   "eqLabelWithNumbers": true,
   "eqNumInitial": 1,
   "hotkeys": {
    "equation": "Ctrl-E",
    "itemize": "Ctrl-I"
   },
   "labels_anchors": false,
   "latex_user_defs": false,
   "report_style_numbering": false,
   "user_envs_cfg": false
  },
  "toc": {
   "base_numbering": 1,
   "nav_menu": {},
   "number_sections": true,
   "sideBar": true,
   "skip_h1_title": false,
   "title_cell": "Table of Contents",
   "title_sidebar": "Contents",
   "toc_cell": false,
   "toc_position": {},
   "toc_section_display": true,
   "toc_window_display": false
  },
  "varInspector": {
   "cols": {
    "lenName": 16,
    "lenType": 16,
    "lenVar": 40
   },
   "kernels_config": {
    "python": {
     "delete_cmd_postfix": "",
     "delete_cmd_prefix": "del ",
     "library": "var_list.py",
     "varRefreshCmd": "print(var_dic_list())"
    },
    "r": {
     "delete_cmd_postfix": ") ",
     "delete_cmd_prefix": "rm(",
     "library": "var_list.r",
     "varRefreshCmd": "cat(var_dic_list()) "
    }
   },
   "types_to_exclude": [
    "module",
    "function",
    "builtin_function_or_method",
    "instance",
    "_Feature"
   ],
   "window_display": false
  }
 },
 "nbformat": 4,
 "nbformat_minor": 4
}