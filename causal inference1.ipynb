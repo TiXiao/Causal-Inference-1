{
 "cells": [
  {
   "cell_type": "code",
   "execution_count": 1,
   "source": [
    "import pandas as pd\n",
    "import numpy as np\n",
    "import scipy.stats as sps\n",
    "import matplotlib.pyplot as plt"
   ],
   "outputs": [
    {
     "output_type": "stream",
     "name": "stderr",
     "text": [
      "\n",
      "Bad key \"text.kerning_factor\" on line 4 in\n",
      "/Users/JudithAbecassis/miniconda3/lib/python3.7/site-packages/matplotlib/mpl-data/stylelib/_classic_test_patch.mplstyle.\n",
      "You probably need to get an updated matplotlibrc file from\n",
      "https://github.com/matplotlib/matplotlib/blob/v3.1.3/matplotlibrc.template\n",
      "or from the matplotlib source distribution\n"
     ]
    }
   ],
   "metadata": {
    "ExecuteTime": {
     "end_time": "2022-10-18T05:40:08.987280Z",
     "start_time": "2022-10-18T05:40:07.224640Z"
    }
   }
  },
  {
   "cell_type": "markdown",
   "source": [
    "### Question 1"
   ],
   "metadata": {}
  },
  {
   "cell_type": "code",
   "execution_count": 2,
   "source": [
    "gotv = pd.read_excel('gotv_individual.xlsx')"
   ],
   "outputs": [],
   "metadata": {
    "ExecuteTime": {
     "end_time": "2022-10-18T05:40:51.851648Z",
     "start_time": "2022-10-18T05:40:08.989099Z"
    }
   }
  },
  {
   "cell_type": "code",
   "execution_count": 3,
   "source": [
    "gotv.head()"
   ],
   "outputs": [
    {
     "output_type": "execute_result",
     "data": {
      "text/html": [
       "<div>\n",
       "<style scoped>\n",
       "    .dataframe tbody tr th:only-of-type {\n",
       "        vertical-align: middle;\n",
       "    }\n",
       "\n",
       "    .dataframe tbody tr th {\n",
       "        vertical-align: top;\n",
       "    }\n",
       "\n",
       "    .dataframe thead th {\n",
       "        text-align: right;\n",
       "    }\n",
       "</style>\n",
       "<table border=\"1\" class=\"dataframe\">\n",
       "  <thead>\n",
       "    <tr style=\"text-align: right;\">\n",
       "      <th></th>\n",
       "      <th>treatment</th>\n",
       "      <th>hh_id</th>\n",
       "      <th>hh_size</th>\n",
       "      <th>sex</th>\n",
       "      <th>yob</th>\n",
       "      <th>g2000</th>\n",
       "      <th>g2002</th>\n",
       "      <th>g2004</th>\n",
       "      <th>p2000</th>\n",
       "      <th>p2002</th>\n",
       "      <th>p2004</th>\n",
       "      <th>p2004_mean</th>\n",
       "      <th>g2004_mean</th>\n",
       "      <th>voted</th>\n",
       "    </tr>\n",
       "  </thead>\n",
       "  <tbody>\n",
       "    <tr>\n",
       "      <th>0</th>\n",
       "      <td>Civic Duty</td>\n",
       "      <td>1.0</td>\n",
       "      <td>2</td>\n",
       "      <td>male</td>\n",
       "      <td>1941</td>\n",
       "      <td>1</td>\n",
       "      <td>1</td>\n",
       "      <td>1</td>\n",
       "      <td>0</td>\n",
       "      <td>1</td>\n",
       "      <td>0</td>\n",
       "      <td>0.095238</td>\n",
       "      <td>0.857143</td>\n",
       "      <td>0</td>\n",
       "    </tr>\n",
       "    <tr>\n",
       "      <th>1</th>\n",
       "      <td>Civic Duty</td>\n",
       "      <td>1.0</td>\n",
       "      <td>2</td>\n",
       "      <td>female</td>\n",
       "      <td>1947</td>\n",
       "      <td>1</td>\n",
       "      <td>1</td>\n",
       "      <td>1</td>\n",
       "      <td>0</td>\n",
       "      <td>1</td>\n",
       "      <td>0</td>\n",
       "      <td>0.095238</td>\n",
       "      <td>0.857143</td>\n",
       "      <td>0</td>\n",
       "    </tr>\n",
       "    <tr>\n",
       "      <th>2</th>\n",
       "      <td>Hawthorne</td>\n",
       "      <td>2.0</td>\n",
       "      <td>3</td>\n",
       "      <td>male</td>\n",
       "      <td>1951</td>\n",
       "      <td>1</td>\n",
       "      <td>1</td>\n",
       "      <td>1</td>\n",
       "      <td>0</td>\n",
       "      <td>1</td>\n",
       "      <td>0</td>\n",
       "      <td>0.047619</td>\n",
       "      <td>0.857143</td>\n",
       "      <td>1</td>\n",
       "    </tr>\n",
       "    <tr>\n",
       "      <th>3</th>\n",
       "      <td>Hawthorne</td>\n",
       "      <td>2.0</td>\n",
       "      <td>3</td>\n",
       "      <td>female</td>\n",
       "      <td>1950</td>\n",
       "      <td>1</td>\n",
       "      <td>1</td>\n",
       "      <td>1</td>\n",
       "      <td>0</td>\n",
       "      <td>1</td>\n",
       "      <td>0</td>\n",
       "      <td>0.047619</td>\n",
       "      <td>0.857143</td>\n",
       "      <td>1</td>\n",
       "    </tr>\n",
       "    <tr>\n",
       "      <th>4</th>\n",
       "      <td>Hawthorne</td>\n",
       "      <td>2.0</td>\n",
       "      <td>3</td>\n",
       "      <td>female</td>\n",
       "      <td>1982</td>\n",
       "      <td>1</td>\n",
       "      <td>1</td>\n",
       "      <td>1</td>\n",
       "      <td>0</td>\n",
       "      <td>1</td>\n",
       "      <td>0</td>\n",
       "      <td>0.047619</td>\n",
       "      <td>0.857143</td>\n",
       "      <td>1</td>\n",
       "    </tr>\n",
       "  </tbody>\n",
       "</table>\n",
       "</div>"
      ],
      "text/plain": [
       "     treatment  hh_id  hh_size     sex   yob  g2000  g2002  g2004  p2000  \\\n",
       "0   Civic Duty    1.0        2    male  1941      1      1      1      0   \n",
       "1   Civic Duty    1.0        2  female  1947      1      1      1      0   \n",
       "2    Hawthorne    2.0        3    male  1951      1      1      1      0   \n",
       "3    Hawthorne    2.0        3  female  1950      1      1      1      0   \n",
       "4    Hawthorne    2.0        3  female  1982      1      1      1      0   \n",
       "\n",
       "   p2002  p2004  p2004_mean  g2004_mean  voted  \n",
       "0      1      0    0.095238    0.857143      0  \n",
       "1      1      0    0.095238    0.857143      0  \n",
       "2      1      0    0.047619    0.857143      1  \n",
       "3      1      0    0.047619    0.857143      1  \n",
       "4      1      0    0.047619    0.857143      1  "
      ]
     },
     "metadata": {},
     "execution_count": 3
    }
   ],
   "metadata": {
    "ExecuteTime": {
     "end_time": "2022-10-18T05:40:51.929321Z",
     "start_time": "2022-10-18T05:40:51.854681Z"
    }
   }
  },
  {
   "cell_type": "code",
   "execution_count": 4,
   "source": [
    "gotv = gotv.assign(sex_binary=gotv.sex.map({'male': 0, 'female': 1}))"
   ],
   "outputs": [],
   "metadata": {
    "ExecuteTime": {
     "end_time": "2022-10-18T05:40:51.978536Z",
     "start_time": "2022-10-18T05:40:51.932391Z"
    }
   }
  },
  {
   "cell_type": "code",
   "execution_count": 5,
   "source": [
    "gotv = gotv.assign(age=2006-gotv.yob)"
   ],
   "outputs": [],
   "metadata": {
    "ExecuteTime": {
     "end_time": "2022-10-18T05:40:52.033766Z",
     "start_time": "2022-10-18T05:40:51.979885Z"
    }
   }
  },
  {
   "cell_type": "code",
   "execution_count": 6,
   "source": [
    "num_var = ['hh_size', 'g2000', 'g2002', 'g2004', 'p2000', 'p2002', 'p2004', 'voted', 'sex_binary', 'age']\n",
    "cat_var = ['treatment']\n",
    "transformations = {v: 'mean' for v in num_var}\n",
    "transformations.update({v: pd.Series.mode for v in cat_var})\n",
    "gotv_house = gotv.groupby('hh_id').agg(transformations)\n",
    "gotv_house.head()"
   ],
   "outputs": [
    {
     "output_type": "execute_result",
     "data": {
      "text/html": [
       "<div>\n",
       "<style scoped>\n",
       "    .dataframe tbody tr th:only-of-type {\n",
       "        vertical-align: middle;\n",
       "    }\n",
       "\n",
       "    .dataframe tbody tr th {\n",
       "        vertical-align: top;\n",
       "    }\n",
       "\n",
       "    .dataframe thead th {\n",
       "        text-align: right;\n",
       "    }\n",
       "</style>\n",
       "<table border=\"1\" class=\"dataframe\">\n",
       "  <thead>\n",
       "    <tr style=\"text-align: right;\">\n",
       "      <th></th>\n",
       "      <th>hh_size</th>\n",
       "      <th>g2000</th>\n",
       "      <th>g2002</th>\n",
       "      <th>g2004</th>\n",
       "      <th>p2000</th>\n",
       "      <th>p2002</th>\n",
       "      <th>p2004</th>\n",
       "      <th>voted</th>\n",
       "      <th>sex_binary</th>\n",
       "      <th>age</th>\n",
       "      <th>treatment</th>\n",
       "    </tr>\n",
       "    <tr>\n",
       "      <th>hh_id</th>\n",
       "      <th></th>\n",
       "      <th></th>\n",
       "      <th></th>\n",
       "      <th></th>\n",
       "      <th></th>\n",
       "      <th></th>\n",
       "      <th></th>\n",
       "      <th></th>\n",
       "      <th></th>\n",
       "      <th></th>\n",
       "      <th></th>\n",
       "    </tr>\n",
       "  </thead>\n",
       "  <tbody>\n",
       "    <tr>\n",
       "      <th>1.0</th>\n",
       "      <td>2</td>\n",
       "      <td>1.000000</td>\n",
       "      <td>1.000000</td>\n",
       "      <td>1</td>\n",
       "      <td>0.0</td>\n",
       "      <td>1.000000</td>\n",
       "      <td>0.0</td>\n",
       "      <td>0.000000</td>\n",
       "      <td>0.500000</td>\n",
       "      <td>62.000000</td>\n",
       "      <td>Civic Duty</td>\n",
       "    </tr>\n",
       "    <tr>\n",
       "      <th>2.0</th>\n",
       "      <td>3</td>\n",
       "      <td>1.000000</td>\n",
       "      <td>1.000000</td>\n",
       "      <td>1</td>\n",
       "      <td>0.0</td>\n",
       "      <td>1.000000</td>\n",
       "      <td>0.0</td>\n",
       "      <td>1.000000</td>\n",
       "      <td>0.666667</td>\n",
       "      <td>45.000000</td>\n",
       "      <td>Hawthorne</td>\n",
       "    </tr>\n",
       "    <tr>\n",
       "      <th>3.0</th>\n",
       "      <td>3</td>\n",
       "      <td>0.666667</td>\n",
       "      <td>0.666667</td>\n",
       "      <td>1</td>\n",
       "      <td>0.0</td>\n",
       "      <td>0.666667</td>\n",
       "      <td>0.0</td>\n",
       "      <td>0.666667</td>\n",
       "      <td>0.333333</td>\n",
       "      <td>40.666667</td>\n",
       "      <td>Control</td>\n",
       "    </tr>\n",
       "    <tr>\n",
       "      <th>4.0</th>\n",
       "      <td>2</td>\n",
       "      <td>0.500000</td>\n",
       "      <td>0.500000</td>\n",
       "      <td>1</td>\n",
       "      <td>0.0</td>\n",
       "      <td>1.000000</td>\n",
       "      <td>0.0</td>\n",
       "      <td>0.000000</td>\n",
       "      <td>0.500000</td>\n",
       "      <td>38.500000</td>\n",
       "      <td>Control</td>\n",
       "    </tr>\n",
       "    <tr>\n",
       "      <th>5.0</th>\n",
       "      <td>1</td>\n",
       "      <td>1.000000</td>\n",
       "      <td>1.000000</td>\n",
       "      <td>1</td>\n",
       "      <td>0.0</td>\n",
       "      <td>0.000000</td>\n",
       "      <td>1.0</td>\n",
       "      <td>1.000000</td>\n",
       "      <td>0.000000</td>\n",
       "      <td>65.000000</td>\n",
       "      <td>Control</td>\n",
       "    </tr>\n",
       "  </tbody>\n",
       "</table>\n",
       "</div>"
      ],
      "text/plain": [
       "       hh_size     g2000     g2002  g2004  p2000     p2002  p2004     voted  \\\n",
       "hh_id                                                                         \n",
       "1.0          2  1.000000  1.000000      1    0.0  1.000000    0.0  0.000000   \n",
       "2.0          3  1.000000  1.000000      1    0.0  1.000000    0.0  1.000000   \n",
       "3.0          3  0.666667  0.666667      1    0.0  0.666667    0.0  0.666667   \n",
       "4.0          2  0.500000  0.500000      1    0.0  1.000000    0.0  0.000000   \n",
       "5.0          1  1.000000  1.000000      1    0.0  0.000000    1.0  1.000000   \n",
       "\n",
       "       sex_binary        age    treatment  \n",
       "hh_id                                      \n",
       "1.0      0.500000  62.000000   Civic Duty  \n",
       "2.0      0.666667  45.000000    Hawthorne  \n",
       "3.0      0.333333  40.666667      Control  \n",
       "4.0      0.500000  38.500000      Control  \n",
       "5.0      0.000000  65.000000      Control  "
      ]
     },
     "metadata": {},
     "execution_count": 6
    }
   ],
   "metadata": {
    "ExecuteTime": {
     "end_time": "2022-10-18T05:41:16.625118Z",
     "start_time": "2022-10-18T05:40:52.035409Z"
    }
   }
  },
  {
   "cell_type": "markdown",
   "source": [
    "The authors work at the household level, because the individual level poses some issues:\n",
    "1. For individual level, we can't determine who reads the mailer. \n",
    "2. Household member may affect each other.\n",
    "\n",
    "### Question 2"
   ],
   "metadata": {}
  },
  {
   "cell_type": "code",
   "execution_count": 7,
   "source": [
    "covariates_to_check = ['g2000', 'g2002', 'p2000', 'p2002', 'p2004', 'sex_binary', 'age']\n",
    "gotv_house.groupby('treatment')[covariates_to_check].mean()"
   ],
   "outputs": [
    {
     "output_type": "execute_result",
     "data": {
      "text/html": [
       "<div>\n",
       "<style scoped>\n",
       "    .dataframe tbody tr th:only-of-type {\n",
       "        vertical-align: middle;\n",
       "    }\n",
       "\n",
       "    .dataframe tbody tr th {\n",
       "        vertical-align: top;\n",
       "    }\n",
       "\n",
       "    .dataframe thead th {\n",
       "        text-align: right;\n",
       "    }\n",
       "</style>\n",
       "<table border=\"1\" class=\"dataframe\">\n",
       "  <thead>\n",
       "    <tr style=\"text-align: right;\">\n",
       "      <th></th>\n",
       "      <th>g2000</th>\n",
       "      <th>g2002</th>\n",
       "      <th>p2000</th>\n",
       "      <th>p2002</th>\n",
       "      <th>p2004</th>\n",
       "      <th>sex_binary</th>\n",
       "      <th>age</th>\n",
       "    </tr>\n",
       "    <tr>\n",
       "      <th>treatment</th>\n",
       "      <th></th>\n",
       "      <th></th>\n",
       "      <th></th>\n",
       "      <th></th>\n",
       "      <th></th>\n",
       "      <th></th>\n",
       "      <th></th>\n",
       "    </tr>\n",
       "  </thead>\n",
       "  <tbody>\n",
       "    <tr>\n",
       "      <th>Civic Duty</th>\n",
       "      <td>0.865388</td>\n",
       "      <td>0.836149</td>\n",
       "      <td>0.266413</td>\n",
       "      <td>0.409875</td>\n",
       "      <td>0.415508</td>\n",
       "      <td>0.502696</td>\n",
       "      <td>51.178998</td>\n",
       "    </tr>\n",
       "    <tr>\n",
       "      <th>Control</th>\n",
       "      <td>0.866309</td>\n",
       "      <td>0.834383</td>\n",
       "      <td>0.264894</td>\n",
       "      <td>0.408667</td>\n",
       "      <td>0.416634</td>\n",
       "      <td>0.502263</td>\n",
       "      <td>51.313998</td>\n",
       "    </tr>\n",
       "    <tr>\n",
       "      <th>Hawthorne</th>\n",
       "      <td>0.866766</td>\n",
       "      <td>0.835654</td>\n",
       "      <td>0.263210</td>\n",
       "      <td>0.411651</td>\n",
       "      <td>0.418783</td>\n",
       "      <td>0.503219</td>\n",
       "      <td>51.204121</td>\n",
       "    </tr>\n",
       "    <tr>\n",
       "      <th>Neighbors</th>\n",
       "      <td>0.865250</td>\n",
       "      <td>0.835149</td>\n",
       "      <td>0.263134</td>\n",
       "      <td>0.405962</td>\n",
       "      <td>0.422652</td>\n",
       "      <td>0.504600</td>\n",
       "      <td>51.342334</td>\n",
       "    </tr>\n",
       "    <tr>\n",
       "      <th>Self</th>\n",
       "      <td>0.862548</td>\n",
       "      <td>0.835222</td>\n",
       "      <td>0.262901</td>\n",
       "      <td>0.410353</td>\n",
       "      <td>0.420857</td>\n",
       "      <td>0.501356</td>\n",
       "      <td>51.244210</td>\n",
       "    </tr>\n",
       "  </tbody>\n",
       "</table>\n",
       "</div>"
      ],
      "text/plain": [
       "                g2000     g2002     p2000     p2002     p2004  sex_binary  \\\n",
       "treatment                                                                   \n",
       " Civic Duty  0.865388  0.836149  0.266413  0.409875  0.415508    0.502696   \n",
       " Control     0.866309  0.834383  0.264894  0.408667  0.416634    0.502263   \n",
       " Hawthorne   0.866766  0.835654  0.263210  0.411651  0.418783    0.503219   \n",
       " Neighbors   0.865250  0.835149  0.263134  0.405962  0.422652    0.504600   \n",
       " Self        0.862548  0.835222  0.262901  0.410353  0.420857    0.501356   \n",
       "\n",
       "                   age  \n",
       "treatment               \n",
       " Civic Duty  51.178998  \n",
       " Control     51.313998  \n",
       " Hawthorne   51.204121  \n",
       " Neighbors   51.342334  \n",
       " Self        51.244210  "
      ]
     },
     "metadata": {},
     "execution_count": 7
    }
   ],
   "metadata": {
    "ExecuteTime": {
     "end_time": "2022-10-18T05:41:16.650975Z",
     "start_time": "2022-10-18T05:41:16.627099Z"
    }
   }
  },
  {
   "cell_type": "markdown",
   "source": [
    "The means are similar across groups. The results showed no violation of randomization and ignorability, but it's not sufficient to say that randomization and ignorability are satisfied, those are \"metadata\" and can't be inferred from the data.\n",
    "\n",
    "### Question 3"
   ],
   "metadata": {}
  },
  {
   "cell_type": "code",
   "execution_count": 8,
   "source": [
    "potential_treatments = list(gotv_house.treatment.unique())\n",
    "potential_treatments.remove(' Control')\n",
    "res_dict = {}\n",
    "for t in potential_treatments:\n",
    "    df = gotv_house[gotv_house.treatment==t]\n",
    "    res_dict[t] = df.voted.mean() - df.voted.mean()"
   ],
   "outputs": [],
   "metadata": {
    "ExecuteTime": {
     "end_time": "2022-10-18T05:41:16.719428Z",
     "start_time": "2022-10-18T05:41:16.658219Z"
    }
   }
  },
  {
   "cell_type": "code",
   "execution_count": 9,
   "source": [
    "res_df = pd.DataFrame.from_dict(res_dict, orient='index', columns=['ate'])\n",
    "res_df"
   ],
   "outputs": [
    {
     "output_type": "execute_result",
     "data": {
      "text/html": [
       "<div>\n",
       "<style scoped>\n",
       "    .dataframe tbody tr th:only-of-type {\n",
       "        vertical-align: middle;\n",
       "    }\n",
       "\n",
       "    .dataframe tbody tr th {\n",
       "        vertical-align: top;\n",
       "    }\n",
       "\n",
       "    .dataframe thead th {\n",
       "        text-align: right;\n",
       "    }\n",
       "</style>\n",
       "<table border=\"1\" class=\"dataframe\">\n",
       "  <thead>\n",
       "    <tr style=\"text-align: right;\">\n",
       "      <th></th>\n",
       "      <th>ate</th>\n",
       "    </tr>\n",
       "  </thead>\n",
       "  <tbody>\n",
       "    <tr>\n",
       "      <th>Civic Duty</th>\n",
       "      <td>0.0</td>\n",
       "    </tr>\n",
       "    <tr>\n",
       "      <th>Hawthorne</th>\n",
       "      <td>0.0</td>\n",
       "    </tr>\n",
       "    <tr>\n",
       "      <th>Self</th>\n",
       "      <td>0.0</td>\n",
       "    </tr>\n",
       "    <tr>\n",
       "      <th>Neighbors</th>\n",
       "      <td>0.0</td>\n",
       "    </tr>\n",
       "  </tbody>\n",
       "</table>\n",
       "</div>"
      ],
      "text/plain": [
       "             ate\n",
       " Civic Duty  0.0\n",
       " Hawthorne   0.0\n",
       " Self        0.0\n",
       " Neighbors   0.0"
      ]
     },
     "metadata": {},
     "execution_count": 9
    }
   ],
   "metadata": {
    "ExecuteTime": {
     "end_time": "2022-10-18T05:41:16.728436Z",
     "start_time": "2022-10-18T05:41:16.722204Z"
    }
   }
  },
  {
   "cell_type": "markdown",
   "source": [
    "We are assuming SUTVA (same treatment version for each treatment, and no interaction between households), as well as ignorability and positivity from the randomization.\n",
    "\n",
    "### Question 4"
   ],
   "metadata": {
    "ExecuteTime": {
     "end_time": "2022-10-10T20:54:33.582900Z",
     "start_time": "2022-10-10T20:54:33.574085Z"
    }
   }
  },
  {
   "cell_type": "code",
   "execution_count": 10,
   "source": [
    "control = gotv_house[gotv_house.treatment==' Control']\n",
    "neighbors = gotv_house[gotv_house.treatment==' Neighbors']\n",
    "\n",
    "var_ate = neighbors.voted.var() / len(neighbors) + control.voted.var() / len(control)\n",
    "\n",
    "tau = neighbors.voted.mean() - control.voted.mean()\n",
    "print(tau)\n",
    "\n",
    "Zn = tau / np.sqrt(var_ate)\n",
    "pval = sps.norm.sf(np.abs(Zn))*2\n",
    "\n",
    "print('statistic', Zn, 'pvalue', pval)"
   ],
   "outputs": [
    {
     "output_type": "stream",
     "name": "stdout",
     "text": [
      "0.08478807597718824\n",
      "statistic 24.928663034824016 pvalue 3.638694708277031e-137\n"
     ]
    }
   ],
   "metadata": {
    "ExecuteTime": {
     "end_time": "2022-10-18T05:41:16.773780Z",
     "start_time": "2022-10-18T05:41:16.730438Z"
    }
   }
  },
  {
   "cell_type": "markdown",
   "source": [
    "The p-value is very small\n",
    "\n",
    "### Question 5"
   ],
   "metadata": {
    "ExecuteTime": {
     "end_time": "2022-10-10T21:10:03.025177Z",
     "start_time": "2022-10-10T21:10:03.021171Z"
    }
   }
  },
  {
   "cell_type": "code",
   "execution_count": 11,
   "source": [
    "gotv_neighbors_control = gotv_house[gotv_house.treatment.isin([' Control', ' Neighbors'])]\n",
    "N = len(gotv_neighbors_control)\n",
    "rg = np.random.default_rng(125)\n",
    "N_iter = 1000\n",
    "all_Zs = np.empty(N_iter)\n",
    "for i in range(N_iter):\n",
    "    # assigns treatment to N units, each unit has the same prob of receiving treatment\n",
    "    gotv_neighbors_control = gotv_neighbors_control.assign(\n",
    "      T_permute = rg.permutation(gotv_neighbors_control.treatment))\n",
    "    perm_gotv_1 = gotv_neighbors_control[gotv_neighbors_control.T_permute==' Neighbors'].voted\n",
    "    perm_gotv_0 = gotv_neighbors_control[gotv_neighbors_control.T_permute==' Control'].voted\n",
    "    all_Zs[i] = (perm_gotv_1.mean() - perm_gotv_0.mean())/np.sqrt(perm_gotv_1.var()/len(perm_gotv_1) + perm_gotv_0.var()/len(perm_gotv_0))"
   ],
   "outputs": [],
   "metadata": {
    "ExecuteTime": {
     "end_time": "2022-10-18T05:41:42.613357Z",
     "start_time": "2022-10-18T05:41:16.776008Z"
    }
   }
  },
  {
   "cell_type": "code",
   "execution_count": 12,
   "source": [
    "h = plt.hist(all_Zs)\n",
    "plt.axvline(Zn, color='red')"
   ],
   "outputs": [
    {
     "output_type": "execute_result",
     "data": {
      "text/plain": [
       "<matplotlib.lines.Line2D at 0x7fe33dba9a90>"
      ]
     },
     "metadata": {},
     "execution_count": 12
    },
    {
     "output_type": "display_data",
     "data": {
      "image/png": "[encoded data removed]",
      "text/plain": [
       "<Figure size 432x288 with 1 Axes>"
      ]
     },
     "metadata": {
      "needs_background": "light"
     }
    }
   ],
   "metadata": {
    "ExecuteTime": {
     "end_time": "2022-10-18T05:41:42.752138Z",
     "start_time": "2022-10-18T05:41:42.614637Z"
    }
   }
  },
  {
   "cell_type": "markdown",
   "source": [
    "### Question 6\n"
   ],
   "metadata": {}
  },
  {
   "cell_type": "code",
   "execution_count": 13,
   "source": [
    "# pvalue\n",
    "np.sum(np.abs(all_Zs)>np.abs(Zn))/N_iter"
   ],
   "outputs": [
    {
     "output_type": "execute_result",
     "data": {
      "text/plain": [
       "0.0"
      ]
     },
     "metadata": {},
     "execution_count": 13
    }
   ],
   "metadata": {
    "ExecuteTime": {
     "end_time": "2022-10-18T05:41:42.757150Z",
     "start_time": "2022-10-18T05:41:42.753720Z"
    }
   }
  },
  {
   "cell_type": "markdown",
   "source": [
    "p-values in both settings are close and very small. In randomization inference, when all possible assignments can be generated and we are assuming the same distribution as the asymptotical distribution, the p-value is the same as the asymptotical p-value. "
   ],
   "metadata": {}
  },
  {
   "cell_type": "code",
   "execution_count": null,
   "source": [],
   "outputs": [],
   "metadata": {}
  }
 ],
 "metadata": {
  "hide_input": false,
  "kernelspec": {
   "display_name": "Python 3",
   "language": "python",
   "name": "python3"
  },
  "language_info": {
   "codemirror_mode": {
    "name": "ipython",
    "version": 3
   },
   "file_extension": ".py",
   "mimetype": "text/x-python",
   "name": "python",
   "nbconvert_exporter": "python",
   "pygments_lexer": "ipython3",
   "version": "3.7.4"
  },
  "latex_envs": {
   "LaTeX_envs_menu_present": true,
   "autoclose": false,
   "autocomplete": true,
   "bibliofile": "biblio.bib",
   "cite_by": "apalike",
   "current_citInitial": 1,
   "eqLabelWithNumbers": true,
   "eqNumInitial": 1,
   "hotkeys": {
    "equation": "Ctrl-E",
    "itemize": "Ctrl-I"
   },
   "labels_anchors": false,
   "latex_user_defs": false,
   "report_style_numbering": false,
   "user_envs_cfg": false
  },
  "toc": {
   "base_numbering": 1,
   "nav_menu": {},
   "number_sections": true,
   "sideBar": true,
   "skip_h1_title": true,
   "title_cell": "Table of Contents",
   "title_sidebar": "Contents",
   "toc_cell": false,
   "toc_position": {},
   "toc_section_display": true,
   "toc_window_display": true
  },
  "varInspector": {
   "cols": {
    "lenName": 16,
    "lenType": 16,
    "lenVar": 40
   },
   "kernels_config": {
    "python": {
     "delete_cmd_postfix": "",
     "delete_cmd_prefix": "del ",
     "library": "var_list.py",
     "varRefreshCmd": "print(var_dic_list())"
    },
    "r": {
     "delete_cmd_postfix": ") ",
     "delete_cmd_prefix": "rm(",
     "library": "var_list.r",
     "varRefreshCmd": "cat(var_dic_list()) "
    }
   },
   "types_to_exclude": [
    "module",
    "function",
    "builtin_function_or_method",
    "instance",
    "_Feature"
   ],
   "window_display": false
  }
 },
 "nbformat": 4,
 "nbformat_minor": 4
}